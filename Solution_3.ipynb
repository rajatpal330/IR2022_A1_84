{
  "nbformat": 4,
  "nbformat_minor": 0,
  "metadata": {
    "colab": {
      "name": "Solution_3.ipynb",
      "provenance": [],
      "collapsed_sections": []
    },
    "kernelspec": {
      "name": "python3",
      "display_name": "Python 3"
    },
    "language_info": {
      "name": "python"
    }
  },
  "cells": [
    {
      "cell_type": "code",
      "execution_count": 1,
      "metadata": {
        "id": "eRDaFc9sYkQb"
      },
      "outputs": [],
      "source": [
        "import pandas as pd"
      ]
    },
    {
      "cell_type": "code",
      "source": [
        "from google.colab import drive\n",
        "drive.mount('/content/drive')"
      ],
      "metadata": {
        "colab": {
          "base_uri": "https://localhost:8080/"
        },
        "id": "gg6MYeX9jHCW",
        "outputId": "6636603e-b809-437f-a24e-959e97647d9e"
      },
      "execution_count": 2,
      "outputs": [
        {
          "output_type": "stream",
          "name": "stdout",
          "text": [
            "Mounted at /content/drive\n"
          ]
        }
      ]
    },
    {
      "cell_type": "code",
      "source": [
        "import pandas as pd\n",
        "import numpy as np\n",
        "import re\n",
        "import os\n",
        "import nltk\n",
        "from nltk.tokenize import word_tokenize\n",
        "from gensim.parsing.preprocessing import remove_stopwords\n",
        "from nltk.stem import PorterStemmer, WordNetLemmatizer\n",
        "nltk.download(\"punkt\")\n",
        "nltk.download('wordnet')\n",
        "import math\n",
        "import operator"
      ],
      "metadata": {
        "colab": {
          "base_uri": "https://localhost:8080/"
        },
        "id": "586Sxxi6jzCZ",
        "outputId": "fbe530e6-ff83-459a-888b-d42dbf501b69"
      },
      "execution_count": 3,
      "outputs": [
        {
          "output_type": "stream",
          "name": "stdout",
          "text": [
            "[nltk_data] Downloading package punkt to /root/nltk_data...\n",
            "[nltk_data]   Unzipping tokenizers/punkt.zip.\n",
            "[nltk_data] Downloading package wordnet to /root/nltk_data...\n",
            "[nltk_data]   Unzipping corpora/wordnet.zip.\n"
          ]
        }
      ]
    },
    {
      "cell_type": "code",
      "source": [
        "def punctuation(txt):\n",
        "  punc = '''!()-[]{};:'\"\\,<>./?@#$%^&*_~=+'''\n",
        "  for char in txt:\n",
        "    if char in punc:\n",
        "      txt = txt.replace(char, \" \")\n",
        "  return txt\n",
        "\n",
        "def numbering(txt):\n",
        "  for char in txt:\n",
        "    if char in \"0\":\n",
        "      txt = txt.replace(char, \" zero \")\n",
        "    elif char in \"1\":\n",
        "      txt = txt.replace(char, \" one \")\n",
        "    elif char in \"2\":\n",
        "      txt = txt.replace(char, \" two \")\n",
        "    elif char in \"3\":\n",
        "      txt = txt.replace(char, \" three \")\n",
        "    elif char in \"4\":\n",
        "      txt = txt.replace(char, \" four \")\n",
        "    elif char in \"5\":\n",
        "      txt = txt.replace(char, \" five \")\n",
        "    elif char in \"6\":\n",
        "      txt = txt.replace(char, \" six \")\n",
        "    elif char in \"7\":\n",
        "      txt = txt.replace(char, \" seven \")\n",
        "    elif char in \"8\":\n",
        "      txt = txt.replace(char, \" eight \")\n",
        "    elif char in \"9\":\n",
        "      txt = txt.replace(char, \" nine \")\n",
        "  return txt\n",
        "\n",
        "def lemme(txt):\n",
        "  txt=nltk.word_tokenize(txt)\n",
        "  temp=[]\n",
        "  for i in txt:\n",
        "    temp.append(WordNetLemmatizer().lemmatize(i))\n",
        "  return temp\n",
        "\n",
        "def stemming(txt):\n",
        "  txt=nltk.word_tokenize(txt)\n",
        "  temp=[]\n",
        "  for i in txt:\n",
        "    temp.append(PorterStemmer().stem(i))\n",
        "  return temp\n",
        "\n",
        "def lessThan2(txt):\n",
        "  temp=[]\n",
        "  for i in txt:\n",
        "    if(len(i)>1):\n",
        "      temp.append(i)\n",
        "  return temp\n",
        "\n",
        "def accuracy(y_true,y_pred):\n",
        "  count=0\n",
        "  for i in range(0,len(y_true)):\n",
        "    if y_true[i]==y_pred[i]:\n",
        "      count=count+1\n",
        "  return (count/len(y_true))\n",
        "\n",
        "def confusion_mat(y_true,y_pred):\n",
        "  dic={\"talk.politics.misc\":0,\"sci.med\":1,\"sci.space\":2,\"comp.graphics\":3,\"rec.sport.hockey\":4}\n",
        "  y_true_change=[]\n",
        "  y_pred_change=[]\n",
        "  for i in range(0,len(y_true)):\n",
        "    y_true_change.append(dic[y_true[i]])\n",
        "    y_pred_change.append(dic[y_pred[i]])\n",
        "  n = len(np.unique(y_true)) \n",
        "  mat = np.zeros((n, n))\n",
        "  for i in range(len(y_true)):\n",
        "    mat[y_true_change[i]][y_pred_change[i]] += 1\n",
        "  return mat"
      ],
      "metadata": {
        "id": "cR_MNwSGERMc"
      },
      "execution_count": 212,
      "outputs": []
    },
    {
      "cell_type": "code",
      "source": [
        "def process(txt):\n",
        "\n",
        "  #punctuation removal and number conversion\n",
        "  txt=punctuation(txt)\n",
        "  \n",
        "  \n",
        "    \n",
        "  # #lower the text\n",
        "  # txt_lower=txt.lower()\n",
        "  # print(txt_lower)\n",
        "\n",
        "  #remove stopwords\n",
        "  txt=remove_stopwords(txt)\n",
        "  \n",
        "  \n",
        "\n",
        "  #convert number\n",
        "  txt=numbering(txt)\n",
        "  \n",
        "\n",
        "  #lower the text\n",
        "  txt_lower=txt.lower()\n",
        "  \n",
        "\n",
        "  #tokenization & lemmetization\n",
        "  #txt_tokenize=lemme(txt_lower)\n",
        "  \n",
        "\n",
        "  #stemmed\n",
        "  txt_stemmed=stemming(txt_lower)\n",
        "  \n",
        "\n",
        "  #remove word, size<2\n",
        "  txt_length2=lessThan2(txt_stemmed)\n",
        "  \n",
        "\n",
        "  #remove duplicates \n",
        "  #txt_tokenize =set(txt_tokenize)\n",
        "  \n",
        "  return txt_length2 "
      ],
      "metadata": {
        "id": "WMX716jbm5mJ"
      },
      "execution_count": 117,
      "outputs": []
    },
    {
      "cell_type": "code",
      "source": [
        "def process(txt):\n",
        "\n",
        "  #punctuation removal\n",
        "  punc = '''!()-[]{};:'\"\\,<>./?@#$%^&*_~=+'''\n",
        "  for ele in txt:\n",
        "    if ele in punc:\n",
        "        txt = txt.replace(ele, \" \")\n",
        "  \n",
        "  #lower the text\n",
        "  txt_lower=txt.lower()\n",
        "\n",
        "  #remove stopwords\n",
        "  txt_stopwords=remove_stopwords(txt_lower)\n",
        "  \n",
        "  #tokenization\n",
        "  txt_tokenize=nltk.word_tokenize(txt_stopwords)\n",
        "\n",
        "  #remove blank spaces\n",
        "  for word in txt_tokenize:\n",
        "    word=word.strip()  \n",
        "\n",
        "  #remove duplicates \n",
        "  #txt_tokenize =set(txt_tokenize)\n",
        "  \n",
        "  return txt_tokenize "
      ],
      "metadata": {
        "id": "7EQzV_jPQDvr"
      },
      "execution_count": 160,
      "outputs": []
    },
    {
      "cell_type": "code",
      "source": [
        "my_list1=os.listdir(\"/content/drive/MyDrive/News\");"
      ],
      "metadata": {
        "id": "SEoTAO7bYKm6"
      },
      "execution_count": 161,
      "outputs": []
    },
    {
      "cell_type": "code",
      "source": [
        "my_list1"
      ],
      "metadata": {
        "colab": {
          "base_uri": "https://localhost:8080/"
        },
        "id": "9qiFMxLIwDtj",
        "outputId": "96b3f159-ddcc-46c4-8e61-eba7961035d0"
      },
      "execution_count": 162,
      "outputs": [
        {
          "output_type": "execute_result",
          "data": {
            "text/plain": [
              "['sci.med',\n",
              " 'rec.sport.hockey',\n",
              " 'talk.politics.misc',\n",
              " 'comp.graphics',\n",
              " 'sci.space']"
            ]
          },
          "metadata": {},
          "execution_count": 162
        }
      ]
    },
    {
      "cell_type": "markdown",
      "source": [
        "make dataframe"
      ],
      "metadata": {
        "id": "7M1XVOuLTYvW"
      }
    },
    {
      "cell_type": "code",
      "source": [
        "dataframe=pd.DataFrame(columns=[\"content\",\"label\"])"
      ],
      "metadata": {
        "id": "2ebp1RjkPM1r"
      },
      "execution_count": 163,
      "outputs": []
    },
    {
      "cell_type": "code",
      "source": [
        "listOfContent=[]\n",
        "listOfLabel=[]\n",
        "for i in my_list1:\n",
        "  folder=os.listdir(\"/content/drive/MyDrive/News/\"+i)\n",
        "  for j in folder:\n",
        "    file=open(\"/content/drive/MyDrive/News/\"+i+\"/\"+j,\"r\",errors=\"ignore\",encoding =\"utf-8\")\n",
        "    my_txt=file.read()\n",
        "    processed_txt=process(my_txt)\n",
        "    listOfContent.append(processed_txt)\n",
        "    listOfLabel.append(i)"
      ],
      "metadata": {
        "id": "u0GlM7bKTXbi"
      },
      "execution_count": 164,
      "outputs": []
    },
    {
      "cell_type": "code",
      "source": [
        "dataframe[\"content\"]=listOfContent\n",
        "dataframe[\"label\"]=listOfLabel"
      ],
      "metadata": {
        "id": "HjfVkNTjVooB"
      },
      "execution_count": 165,
      "outputs": []
    },
    {
      "cell_type": "code",
      "source": [
        "dataframe"
      ],
      "metadata": {
        "colab": {
          "base_uri": "https://localhost:8080/",
          "height": 424
        },
        "id": "U3pbtMSWV4nq",
        "outputId": "d3aaf9b9-480a-488f-dab5-4ad25e65fcf3"
      },
      "execution_count": 166,
      "outputs": [
        {
          "output_type": "execute_result",
          "data": {
            "text/plain": [
              "                                                content      label\n",
              "0     [path, cantaloupe, srv, cs, cmu, edu, das, new...    sci.med\n",
              "1     [xref, cantaloupe, srv, cs, cmu, edu, rec, nud...    sci.med\n",
              "2     [xref, cantaloupe, srv, cs, cmu, edu, misc, ki...    sci.med\n",
              "3     [path, cantaloupe, srv, cs, cmu, edu, crabappl...    sci.med\n",
              "4     [path, cantaloupe, srv, cs, cmu, edu, crabappl...    sci.med\n",
              "...                                                 ...        ...\n",
              "4995  [path, cantaloupe, srv, cs, cmu, edu, crabappl...  sci.space\n",
              "4996  [path, cantaloupe, srv, cs, cmu, edu, crabappl...  sci.space\n",
              "4997  [newsgroups, sci, space, path, cantaloupe, srv...  sci.space\n",
              "4998  [xref, cantaloupe, srv, cs, cmu, edu, sci, spa...  sci.space\n",
              "4999  [newsgroups, sci, space, path, cantaloupe, srv...  sci.space\n",
              "\n",
              "[5000 rows x 2 columns]"
            ],
            "text/html": [
              "\n",
              "  <div id=\"df-a3c522b0-5b95-457b-9122-2695bfc70514\">\n",
              "    <div class=\"colab-df-container\">\n",
              "      <div>\n",
              "<style scoped>\n",
              "    .dataframe tbody tr th:only-of-type {\n",
              "        vertical-align: middle;\n",
              "    }\n",
              "\n",
              "    .dataframe tbody tr th {\n",
              "        vertical-align: top;\n",
              "    }\n",
              "\n",
              "    .dataframe thead th {\n",
              "        text-align: right;\n",
              "    }\n",
              "</style>\n",
              "<table border=\"1\" class=\"dataframe\">\n",
              "  <thead>\n",
              "    <tr style=\"text-align: right;\">\n",
              "      <th></th>\n",
              "      <th>content</th>\n",
              "      <th>label</th>\n",
              "    </tr>\n",
              "  </thead>\n",
              "  <tbody>\n",
              "    <tr>\n",
              "      <th>0</th>\n",
              "      <td>[path, cantaloupe, srv, cs, cmu, edu, das, new...</td>\n",
              "      <td>sci.med</td>\n",
              "    </tr>\n",
              "    <tr>\n",
              "      <th>1</th>\n",
              "      <td>[xref, cantaloupe, srv, cs, cmu, edu, rec, nud...</td>\n",
              "      <td>sci.med</td>\n",
              "    </tr>\n",
              "    <tr>\n",
              "      <th>2</th>\n",
              "      <td>[xref, cantaloupe, srv, cs, cmu, edu, misc, ki...</td>\n",
              "      <td>sci.med</td>\n",
              "    </tr>\n",
              "    <tr>\n",
              "      <th>3</th>\n",
              "      <td>[path, cantaloupe, srv, cs, cmu, edu, crabappl...</td>\n",
              "      <td>sci.med</td>\n",
              "    </tr>\n",
              "    <tr>\n",
              "      <th>4</th>\n",
              "      <td>[path, cantaloupe, srv, cs, cmu, edu, crabappl...</td>\n",
              "      <td>sci.med</td>\n",
              "    </tr>\n",
              "    <tr>\n",
              "      <th>...</th>\n",
              "      <td>...</td>\n",
              "      <td>...</td>\n",
              "    </tr>\n",
              "    <tr>\n",
              "      <th>4995</th>\n",
              "      <td>[path, cantaloupe, srv, cs, cmu, edu, crabappl...</td>\n",
              "      <td>sci.space</td>\n",
              "    </tr>\n",
              "    <tr>\n",
              "      <th>4996</th>\n",
              "      <td>[path, cantaloupe, srv, cs, cmu, edu, crabappl...</td>\n",
              "      <td>sci.space</td>\n",
              "    </tr>\n",
              "    <tr>\n",
              "      <th>4997</th>\n",
              "      <td>[newsgroups, sci, space, path, cantaloupe, srv...</td>\n",
              "      <td>sci.space</td>\n",
              "    </tr>\n",
              "    <tr>\n",
              "      <th>4998</th>\n",
              "      <td>[xref, cantaloupe, srv, cs, cmu, edu, sci, spa...</td>\n",
              "      <td>sci.space</td>\n",
              "    </tr>\n",
              "    <tr>\n",
              "      <th>4999</th>\n",
              "      <td>[newsgroups, sci, space, path, cantaloupe, srv...</td>\n",
              "      <td>sci.space</td>\n",
              "    </tr>\n",
              "  </tbody>\n",
              "</table>\n",
              "<p>5000 rows × 2 columns</p>\n",
              "</div>\n",
              "      <button class=\"colab-df-convert\" onclick=\"convertToInteractive('df-a3c522b0-5b95-457b-9122-2695bfc70514')\"\n",
              "              title=\"Convert this dataframe to an interactive table.\"\n",
              "              style=\"display:none;\">\n",
              "        \n",
              "  <svg xmlns=\"http://www.w3.org/2000/svg\" height=\"24px\"viewBox=\"0 0 24 24\"\n",
              "       width=\"24px\">\n",
              "    <path d=\"M0 0h24v24H0V0z\" fill=\"none\"/>\n",
              "    <path d=\"M18.56 5.44l.94 2.06.94-2.06 2.06-.94-2.06-.94-.94-2.06-.94 2.06-2.06.94zm-11 1L8.5 8.5l.94-2.06 2.06-.94-2.06-.94L8.5 2.5l-.94 2.06-2.06.94zm10 10l.94 2.06.94-2.06 2.06-.94-2.06-.94-.94-2.06-.94 2.06-2.06.94z\"/><path d=\"M17.41 7.96l-1.37-1.37c-.4-.4-.92-.59-1.43-.59-.52 0-1.04.2-1.43.59L10.3 9.45l-7.72 7.72c-.78.78-.78 2.05 0 2.83L4 21.41c.39.39.9.59 1.41.59.51 0 1.02-.2 1.41-.59l7.78-7.78 2.81-2.81c.8-.78.8-2.07 0-2.86zM5.41 20L4 18.59l7.72-7.72 1.47 1.35L5.41 20z\"/>\n",
              "  </svg>\n",
              "      </button>\n",
              "      \n",
              "  <style>\n",
              "    .colab-df-container {\n",
              "      display:flex;\n",
              "      flex-wrap:wrap;\n",
              "      gap: 12px;\n",
              "    }\n",
              "\n",
              "    .colab-df-convert {\n",
              "      background-color: #E8F0FE;\n",
              "      border: none;\n",
              "      border-radius: 50%;\n",
              "      cursor: pointer;\n",
              "      display: none;\n",
              "      fill: #1967D2;\n",
              "      height: 32px;\n",
              "      padding: 0 0 0 0;\n",
              "      width: 32px;\n",
              "    }\n",
              "\n",
              "    .colab-df-convert:hover {\n",
              "      background-color: #E2EBFA;\n",
              "      box-shadow: 0px 1px 2px rgba(60, 64, 67, 0.3), 0px 1px 3px 1px rgba(60, 64, 67, 0.15);\n",
              "      fill: #174EA6;\n",
              "    }\n",
              "\n",
              "    [theme=dark] .colab-df-convert {\n",
              "      background-color: #3B4455;\n",
              "      fill: #D2E3FC;\n",
              "    }\n",
              "\n",
              "    [theme=dark] .colab-df-convert:hover {\n",
              "      background-color: #434B5C;\n",
              "      box-shadow: 0px 1px 3px 1px rgba(0, 0, 0, 0.15);\n",
              "      filter: drop-shadow(0px 1px 2px rgba(0, 0, 0, 0.3));\n",
              "      fill: #FFFFFF;\n",
              "    }\n",
              "  </style>\n",
              "\n",
              "      <script>\n",
              "        const buttonEl =\n",
              "          document.querySelector('#df-a3c522b0-5b95-457b-9122-2695bfc70514 button.colab-df-convert');\n",
              "        buttonEl.style.display =\n",
              "          google.colab.kernel.accessAllowed ? 'block' : 'none';\n",
              "\n",
              "        async function convertToInteractive(key) {\n",
              "          const element = document.querySelector('#df-a3c522b0-5b95-457b-9122-2695bfc70514');\n",
              "          const dataTable =\n",
              "            await google.colab.kernel.invokeFunction('convertToInteractive',\n",
              "                                                     [key], {});\n",
              "          if (!dataTable) return;\n",
              "\n",
              "          const docLinkHtml = 'Like what you see? Visit the ' +\n",
              "            '<a target=\"_blank\" href=https://colab.research.google.com/notebooks/data_table.ipynb>data table notebook</a>'\n",
              "            + ' to learn more about interactive tables.';\n",
              "          element.innerHTML = '';\n",
              "          dataTable['output_type'] = 'display_data';\n",
              "          await google.colab.output.renderOutput(dataTable, element);\n",
              "          const docLink = document.createElement('div');\n",
              "          docLink.innerHTML = docLinkHtml;\n",
              "          element.appendChild(docLink);\n",
              "        }\n",
              "      </script>\n",
              "    </div>\n",
              "  </div>\n",
              "  "
            ]
          },
          "metadata": {},
          "execution_count": 166
        }
      ]
    },
    {
      "cell_type": "code",
      "source": [
        "from sklearn.model_selection import train_test_split\n",
        "X_train, X_test, y_train, y_test = train_test_split(dataframe, dataframe[\"label\"], test_size=0.20, random_state=42,stratify=dataframe[\"label\"])"
      ],
      "metadata": {
        "id": "BWqfHg2VV6qg"
      },
      "execution_count": 374,
      "outputs": []
    },
    {
      "cell_type": "code",
      "source": [
        "#creating dictionary to store {terms:{class:count}}\n",
        "main_dict2={}\n",
        "unique_words2=set()\n",
        "for i in range(0,len(X_train)):\n",
        "  data=X_train.iloc[i]\n",
        "  temp_list=data[\"content\"]\n",
        "  label=data[\"label\"]\n",
        "  unique_words2.update(temp_list)\n",
        "  for token in temp_list:\n",
        "      if token in main_dict2:\n",
        "        if label in main_dict2[token]:\n",
        "          main_dict2[token][label]=main_dict2[token][label]+1\n",
        "        else:\n",
        "          main_dict2[token][label]=1\n",
        "      else:\n",
        "        main_dict2[token]={}\n",
        "        main_dict2[token][label]=1\n",
        "\n",
        "#making bag of words\n",
        "word_list=[]\n",
        "for i in unique_words2:\n",
        "  word_list.append(i)\n",
        "\n",
        "#making a new dataframe to store tficf value\n",
        "matrix=pd.DataFrame()\n",
        "matrix[\"terms\"]=word_list\n",
        "for i in my_list1:\n",
        "  matrix[i]=0\n",
        "matrix.index = list(matrix[\"terms\"])"
      ],
      "metadata": {
        "id": "ilLZcdsbZljK"
      },
      "execution_count": 375,
      "outputs": []
    },
    {
      "cell_type": "code",
      "source": [
        "#filling  Tficf value in dataframe\n",
        "for i in word_list:\n",
        "  class_list=main_dict2[i]\n",
        "  icf_value=math.log((5/len(class_list)),2)\n",
        "  for j in my_list1:\n",
        "    if j in main_dict2[i]:\n",
        "      matrix.loc[i,j]=main_dict2[i][j]*icf_value"
      ],
      "metadata": {
        "id": "dXsL4YCqemkb"
      },
      "execution_count": 376,
      "outputs": []
    },
    {
      "cell_type": "code",
      "source": [
        "#function for selecting k best features\n",
        "def getKBestFeatures(k):\n",
        "  listing=set()\n",
        "  for i in my_list1:\n",
        "    value=matrix[i]\n",
        "    key=matrix[\"terms\"]\n",
        "    term_value_dict = dict(zip(key,value))\n",
        "    sorted_dict = sorted(term_value_dict.items(), key=operator.itemgetter(1),reverse=True)\n",
        "    i=0\n",
        "    while i<k:\n",
        "      listing.add(sorted_dict[i][0])\n",
        "      i=i+1\n",
        "  return listing\n",
        "\n",
        "#calling to select best features\n",
        "best_features=getKBestFeatures(13)"
      ],
      "metadata": {
        "id": "L8Mk8FgQf1hg"
      },
      "execution_count": 377,
      "outputs": []
    },
    {
      "cell_type": "markdown",
      "source": [
        "calculating count of the documnets in which that word present for each class"
      ],
      "metadata": {
        "id": "tRVYwPW1SHWR"
      }
    },
    {
      "cell_type": "code",
      "source": [
        "dict_term_y={}\n",
        "dict_term_n={}\n",
        "for i in best_features:\n",
        "  for j in my_list1:\n",
        "    df=X_train[X_train[\"label\"]==j]\n",
        "    for k in range(0,len(df)):\n",
        "      if i in df.iloc[k][\"content\"]:\n",
        "        if i in dict_term_y:\n",
        "          if j in dict_term_y[i]:\n",
        "            dict_term_y[i][j]=dict_term_y[i][j]+1\n",
        "          else:\n",
        "            dict_term_y[i][j]=1\n",
        "        else:\n",
        "          dict_term_y[i]={}\n",
        "          dict_term_y[i][j]=1\n",
        "      else:\n",
        "        if i in dict_term_n:\n",
        "          if j in dict_term_n[i]:\n",
        "            dict_term_n[i][j]=dict_term_n[i][j]+1\n",
        "          else:\n",
        "            dict_term_n[i][j]=1\n",
        "        else:\n",
        "          dict_term_n[i]={}\n",
        "          dict_term_n[i][j]=1"
      ],
      "metadata": {
        "id": "1Inc5YP2Lj0P"
      },
      "execution_count": 378,
      "outputs": []
    },
    {
      "cell_type": "markdown",
      "source": [
        "class-count dictionary"
      ],
      "metadata": {
        "id": "BUjLGzVDhCJt"
      }
    },
    {
      "cell_type": "code",
      "source": [
        "class_totalCount={\"talk.politics.misc\":800,\"sci.med\":800,\"sci.space\":800,\"comp.graphics\":800,\"rec.sport.hockey\":800}"
      ],
      "metadata": {
        "id": "Gcfax_Msw09S"
      },
      "execution_count": 379,
      "outputs": []
    },
    {
      "cell_type": "markdown",
      "source": [
        "storing probabilities for important features"
      ],
      "metadata": {
        "id": "4ju3Ib_WR49F"
      }
    },
    {
      "cell_type": "code",
      "source": [
        "prob_dict_y={}\n",
        "prob_dict_n={}\n",
        "for i in best_features:\n",
        "  prob_dict_y[i]=[]\n",
        "  prob_dict_n[i]=[]\n",
        "  for j in my_list1:\n",
        "    if j in dict_term_y[i]:\n",
        "      count=dict_term_y[i][j]\n",
        "    else:\n",
        "      count=0\n",
        "    prob_dict_y[i].append((count)/(class_totalCount[j]))\n",
        "    if j in dict_term_n[i]:\n",
        "      count=dict_term_n[i][j]\n",
        "    else:\n",
        "      count=0\n",
        "    prob_dict_n[i].append((count)/(class_totalCount[j]))"
      ],
      "metadata": {
        "id": "FnrlQuuxzrge"
      },
      "execution_count": 380,
      "outputs": []
    },
    {
      "cell_type": "markdown",
      "source": [
        "model training"
      ],
      "metadata": {
        "id": "qKZ90i4zRzh0"
      }
    },
    {
      "cell_type": "code",
      "source": [
        "y_pred=[]\n",
        "for i in range(0,len(X_test)):\n",
        "  data=X_test.iloc[i]\n",
        "  temp_list=data[\"content\"]\n",
        "  k=('sci.med','rec.sport.hockey','talk.politics.misc','comp.graphics','sci.space')\n",
        "  v=(1,1,1,1,1)\n",
        "  d=dict(zip(k,v))\n",
        "  for j in best_features:\n",
        "    if j in temp_list:\n",
        "      d['sci.med']=d['sci.med']*prob_dict_y[j][0]\n",
        "      d['rec.sport.hockey']=d['rec.sport.hockey']*prob_dict_y[j][1]\n",
        "      d['talk.politics.misc']=d['talk.politics.misc']*prob_dict_y[j][2]\n",
        "      d['comp.graphics']=d['comp.graphics']*prob_dict_y[j][3]\n",
        "      d['sci.space']=d['sci.space']*prob_dict_y[j][4]\n",
        "    else:\n",
        "      d['sci.med']=d['sci.med']*prob_dict_n[j][0]\n",
        "      d['rec.sport.hockey']=d['rec.sport.hockey']*prob_dict_n[j][1]\n",
        "      d['talk.politics.misc']=d['talk.politics.misc']*prob_dict_n[j][2]\n",
        "      d['comp.graphics']=d['comp.graphics']*prob_dict_n[j][3]\n",
        "      d['sci.space']=d['sci.space']*prob_dict_n[j][4]\n",
        "  sorted_dict = sorted(d.items(), key=operator.itemgetter(1),reverse=True) \n",
        "  y_pred.append(sorted_dict[0][0])"
      ],
      "metadata": {
        "id": "Hh6rN2cPsJlu"
      },
      "execution_count": 381,
      "outputs": []
    },
    {
      "cell_type": "markdown",
      "source": [
        "making prediction"
      ],
      "metadata": {
        "id": "IaAILZfSRuZP"
      }
    },
    {
      "cell_type": "code",
      "source": [
        "print(accuracy(list(y_test),y_pred))\n",
        "print(confusion_mat(list(y_test),y_pred))"
      ],
      "metadata": {
        "colab": {
          "base_uri": "https://localhost:8080/"
        },
        "id": "rCk9ctOqyFcw",
        "outputId": "5e0f0ce9-3b1b-4052-f322-ad59e99cef46"
      },
      "execution_count": 382,
      "outputs": [
        {
          "output_type": "stream",
          "name": "stdout",
          "text": [
            "0.911\n",
            "[[191.   1.   8.   0.   0.]\n",
            " [  1. 193.   1.   5.   0.]\n",
            " [  0.  68. 131.   1.   0.]\n",
            " [  0.   3.   1. 196.   0.]\n",
            " [  0.   0.   0.   0. 200.]]\n"
          ]
        }
      ]
    },
    {
      "cell_type": "markdown",
      "source": [
        "# for 70:30 splitting"
      ],
      "metadata": {
        "id": "d4lpmn2fG5Cw"
      }
    },
    {
      "cell_type": "code",
      "source": [
        "from sklearn.model_selection import train_test_split\n",
        "X_train, X_test, y_train, y_test = train_test_split(dataframe, dataframe[\"label\"], test_size=0.30, random_state=42,stratify=dataframe[\"label\"])"
      ],
      "metadata": {
        "id": "4yXa78HvHC3d"
      },
      "execution_count": 383,
      "outputs": []
    },
    {
      "cell_type": "code",
      "source": [
        "#creating dictionary to store {terms:{class:count}}\n",
        "main_dict2={}\n",
        "unique_words2=set()\n",
        "for i in range(0,len(X_train)):\n",
        "  data=X_train.iloc[i]\n",
        "  temp_list=data[\"content\"]\n",
        "  label=data[\"label\"]\n",
        "  unique_words2.update(temp_list)\n",
        "  for token in temp_list:\n",
        "      if token in main_dict2:\n",
        "        if label in main_dict2[token]:\n",
        "          main_dict2[token][label]=main_dict2[token][label]+1\n",
        "        else:\n",
        "          main_dict2[token][label]=1\n",
        "      else:\n",
        "        main_dict2[token]={}\n",
        "        main_dict2[token][label]=1\n",
        "\n",
        "#making bag of words\n",
        "word_list=[]\n",
        "for i in unique_words2:\n",
        "  word_list.append(i)\n",
        "\n",
        "#making a new dataframe to store tficf value\n",
        "matrix=pd.DataFrame()\n",
        "matrix[\"terms\"]=word_list\n",
        "for i in my_list1:\n",
        "  matrix[i]=0\n",
        "matrix.index = list(matrix[\"terms\"])"
      ],
      "metadata": {
        "id": "MLbtwS9XHC3e"
      },
      "execution_count": 384,
      "outputs": []
    },
    {
      "cell_type": "code",
      "source": [
        "#filling  Tficf value in dataframe\n",
        "for i in word_list:\n",
        "  class_list=main_dict2[i]\n",
        "  icf_value=math.log((5/len(class_list)),2)\n",
        "  for j in my_list1:\n",
        "    if j in main_dict2[i]:\n",
        "      matrix.loc[i,j]=main_dict2[i][j]*icf_value"
      ],
      "metadata": {
        "id": "exxse9_wHC3f"
      },
      "execution_count": 385,
      "outputs": []
    },
    {
      "cell_type": "code",
      "source": [
        "#function for selecting k best features\n",
        "def getKBestFeatures(k):\n",
        "  listing=set()\n",
        "  for i in my_list1:\n",
        "    value=matrix[i]\n",
        "    key=matrix[\"terms\"]\n",
        "    term_value_dict = dict(zip(key,value))\n",
        "    sorted_dict = sorted(term_value_dict.items(), key=operator.itemgetter(1),reverse=True)\n",
        "    i=0\n",
        "    while i<k:\n",
        "      listing.add(sorted_dict[i][0])\n",
        "      i=i+1\n",
        "  return listing\n",
        "\n",
        "#calling to select best features\n",
        "best_features=getKBestFeatures(13)"
      ],
      "metadata": {
        "id": "MxR2Lk9CHC3f"
      },
      "execution_count": 386,
      "outputs": []
    },
    {
      "cell_type": "markdown",
      "source": [
        "calculating count of the documnets in which that word present for each class"
      ],
      "metadata": {
        "id": "i-MsZZ2pHC3g"
      }
    },
    {
      "cell_type": "code",
      "source": [
        "dict_term_y={}\n",
        "dict_term_n={}\n",
        "for i in best_features:\n",
        "  for j in my_list1:\n",
        "    df=X_train[X_train[\"label\"]==j]\n",
        "    for k in range(0,len(df)):\n",
        "      if i in df.iloc[k][\"content\"]:\n",
        "        if i in dict_term_y:\n",
        "          if j in dict_term_y[i]:\n",
        "            dict_term_y[i][j]=dict_term_y[i][j]+1\n",
        "          else:\n",
        "            dict_term_y[i][j]=1\n",
        "        else:\n",
        "          dict_term_y[i]={}\n",
        "          dict_term_y[i][j]=1\n",
        "      else:\n",
        "        if i in dict_term_n:\n",
        "          if j in dict_term_n[i]:\n",
        "            dict_term_n[i][j]=dict_term_n[i][j]+1\n",
        "          else:\n",
        "            dict_term_n[i][j]=1\n",
        "        else:\n",
        "          dict_term_n[i]={}\n",
        "          dict_term_n[i][j]=1"
      ],
      "metadata": {
        "id": "ZTouwkRSHC3h"
      },
      "execution_count": 387,
      "outputs": []
    },
    {
      "cell_type": "markdown",
      "source": [
        "class-count dictionary"
      ],
      "metadata": {
        "id": "uvOkTi6LHC3i"
      }
    },
    {
      "cell_type": "code",
      "source": [
        "class_totalCount={\"talk.politics.misc\":700,\"sci.med\":700,\"sci.space\":700,\"comp.graphics\":700,\"rec.sport.hockey\":700}"
      ],
      "metadata": {
        "id": "aE-OxGN4HC3i"
      },
      "execution_count": 388,
      "outputs": []
    },
    {
      "cell_type": "markdown",
      "source": [
        "storing probabilities for important features"
      ],
      "metadata": {
        "id": "E_0xs1njHC3i"
      }
    },
    {
      "cell_type": "code",
      "source": [
        "prob_dict_y={}\n",
        "prob_dict_n={}\n",
        "for i in best_features:\n",
        "  prob_dict_y[i]=[]\n",
        "  prob_dict_n[i]=[]\n",
        "  for j in my_list1:\n",
        "    if j in dict_term_y[i]:\n",
        "      count=dict_term_y[i][j]\n",
        "    else:\n",
        "      count=0\n",
        "    prob_dict_y[i].append((count)/(class_totalCount[j]))\n",
        "    if j in dict_term_n[i]:\n",
        "      count=dict_term_n[i][j]\n",
        "    else:\n",
        "      count=0\n",
        "    prob_dict_n[i].append((count)/(class_totalCount[j]))"
      ],
      "metadata": {
        "id": "DrC5a6wnHC3j"
      },
      "execution_count": 389,
      "outputs": []
    },
    {
      "cell_type": "markdown",
      "source": [
        "model training"
      ],
      "metadata": {
        "id": "o-sPubawHC3k"
      }
    },
    {
      "cell_type": "code",
      "source": [
        "y_pred=[]\n",
        "for i in range(0,len(X_test)):\n",
        "  data=X_test.iloc[i]\n",
        "  temp_list=data[\"content\"]\n",
        "  k=('sci.med','rec.sport.hockey','talk.politics.misc','comp.graphics','sci.space')\n",
        "  v=(1,1,1,1,1)\n",
        "  d=dict(zip(k,v))\n",
        "  for j in best_features:\n",
        "    if j in temp_list:\n",
        "      d['sci.med']=d['sci.med']*prob_dict_y[j][0]\n",
        "      d['rec.sport.hockey']=d['rec.sport.hockey']*prob_dict_y[j][1]\n",
        "      d['talk.politics.misc']=d['talk.politics.misc']*prob_dict_y[j][2]\n",
        "      d['comp.graphics']=d['comp.graphics']*prob_dict_y[j][3]\n",
        "      d['sci.space']=d['sci.space']*prob_dict_y[j][4]\n",
        "    else:\n",
        "      d['sci.med']=d['sci.med']*prob_dict_n[j][0]\n",
        "      d['rec.sport.hockey']=d['rec.sport.hockey']*prob_dict_n[j][1]\n",
        "      d['talk.politics.misc']=d['talk.politics.misc']*prob_dict_n[j][2]\n",
        "      d['comp.graphics']=d['comp.graphics']*prob_dict_n[j][3]\n",
        "      d['sci.space']=d['sci.space']*prob_dict_n[j][4]\n",
        "  sorted_dict = sorted(d.items(), key=operator.itemgetter(1),reverse=True) \n",
        "  y_pred.append(sorted_dict[0][0])"
      ],
      "metadata": {
        "id": "st5mQgaiHC3l"
      },
      "execution_count": 390,
      "outputs": []
    },
    {
      "cell_type": "markdown",
      "source": [
        "making prediction"
      ],
      "metadata": {
        "id": "3VZRHM7jHC3m"
      }
    },
    {
      "cell_type": "code",
      "source": [
        "from sklearn.metrics import accuracy_score,confusion_matrix\n",
        "print(accuracy_score(y_pred,y_test))\n",
        "print(confusion_matrix(y_pred,y_test))"
      ],
      "metadata": {
        "colab": {
          "base_uri": "https://localhost:8080/"
        },
        "id": "ExQveNnRHC3m",
        "outputId": "5ee1d462-34bb-4759-c63e-640c360e1f70"
      },
      "execution_count": 391,
      "outputs": [
        {
          "output_type": "stream",
          "name": "stdout",
          "text": [
            "0.918\n",
            "[[295   0   7   0   0]\n",
            " [  0 299   0   0   0]\n",
            " [  4   1 289  96   3]\n",
            " [  1   0   2 198   1]\n",
            " [  0   0   2   6 296]]\n"
          ]
        }
      ]
    },
    {
      "cell_type": "markdown",
      "source": [
        "# for 50:50 split"
      ],
      "metadata": {
        "id": "h-aVVfnPIM0K"
      }
    },
    {
      "cell_type": "code",
      "source": [
        "from sklearn.model_selection import train_test_split\n",
        "X_train, X_test, y_train, y_test = train_test_split(dataframe, dataframe[\"label\"], test_size=0.50, random_state=42,stratify=dataframe[\"label\"])"
      ],
      "metadata": {
        "id": "wPhDOhjhIgWA"
      },
      "execution_count": 392,
      "outputs": []
    },
    {
      "cell_type": "code",
      "source": [
        "#creating dictionary to store {terms:{class:count}}\n",
        "main_dict2={}\n",
        "unique_words2=set()\n",
        "for i in range(0,len(X_train)):\n",
        "  data=X_train.iloc[i]\n",
        "  temp_list=data[\"content\"]\n",
        "  label=data[\"label\"]\n",
        "  unique_words2.update(temp_list)\n",
        "  for token in temp_list:\n",
        "      if token in main_dict2:\n",
        "        if label in main_dict2[token]:\n",
        "          main_dict2[token][label]=main_dict2[token][label]+1\n",
        "        else:\n",
        "          main_dict2[token][label]=1\n",
        "      else:\n",
        "        main_dict2[token]={}\n",
        "        main_dict2[token][label]=1\n",
        "\n",
        "#making bag of words\n",
        "word_list=[]\n",
        "for i in unique_words2:\n",
        "  word_list.append(i)\n",
        "\n",
        "#making a new dataframe to store tficf value\n",
        "matrix=pd.DataFrame()\n",
        "matrix[\"terms\"]=word_list\n",
        "for i in my_list1:\n",
        "  matrix[i]=0\n",
        "matrix.index = list(matrix[\"terms\"])"
      ],
      "metadata": {
        "id": "w2QEcaTcIgWB"
      },
      "execution_count": 393,
      "outputs": []
    },
    {
      "cell_type": "code",
      "source": [
        "#filling  Tficf value in dataframe\n",
        "for i in word_list:\n",
        "  class_list=main_dict2[i]\n",
        "  icf_value=math.log((5/len(class_list)),2)\n",
        "  for j in my_list1:\n",
        "    if j in main_dict2[i]:\n",
        "      matrix.loc[i,j]=main_dict2[i][j]*icf_value"
      ],
      "metadata": {
        "id": "ypdBzSYoIgWC"
      },
      "execution_count": 394,
      "outputs": []
    },
    {
      "cell_type": "code",
      "source": [
        "#function for selecting k best features\n",
        "def getKBestFeatures(k):\n",
        "  listing=set()\n",
        "  for i in my_list1:\n",
        "    value=matrix[i]\n",
        "    key=matrix[\"terms\"]\n",
        "    term_value_dict = dict(zip(key,value))\n",
        "    sorted_dict = sorted(term_value_dict.items(), key=operator.itemgetter(1),reverse=True)\n",
        "    i=0\n",
        "    while i<k:\n",
        "      listing.add(sorted_dict[i][0])\n",
        "      i=i+1\n",
        "  return listing\n",
        "\n",
        "#calling to select best features\n",
        "best_features=getKBestFeatures(15)"
      ],
      "metadata": {
        "id": "NsxFe1JgIgWD"
      },
      "execution_count": 395,
      "outputs": []
    },
    {
      "cell_type": "markdown",
      "source": [
        "calculating count of the documnets in which that word present for each class"
      ],
      "metadata": {
        "id": "iS33nYToIgWE"
      }
    },
    {
      "cell_type": "code",
      "source": [
        "dict_term_y={}\n",
        "dict_term_n={}\n",
        "for i in best_features:\n",
        "  for j in my_list1:\n",
        "    df=X_train[X_train[\"label\"]==j]\n",
        "    for k in range(0,len(df)):\n",
        "      if i in df.iloc[k][\"content\"]:\n",
        "        if i in dict_term_y:\n",
        "          if j in dict_term_y[i]:\n",
        "            dict_term_y[i][j]=dict_term_y[i][j]+1\n",
        "          else:\n",
        "            dict_term_y[i][j]=1\n",
        "        else:\n",
        "          dict_term_y[i]={}\n",
        "          dict_term_y[i][j]=1\n",
        "      else:\n",
        "        if i in dict_term_n:\n",
        "          if j in dict_term_n[i]:\n",
        "            dict_term_n[i][j]=dict_term_n[i][j]+1\n",
        "          else:\n",
        "            dict_term_n[i][j]=1\n",
        "        else:\n",
        "          dict_term_n[i]={}\n",
        "          dict_term_n[i][j]=1"
      ],
      "metadata": {
        "id": "ps8uuerSIgWF"
      },
      "execution_count": 396,
      "outputs": []
    },
    {
      "cell_type": "markdown",
      "source": [
        "class-count dictionary"
      ],
      "metadata": {
        "id": "AftoLoKqIgWG"
      }
    },
    {
      "cell_type": "code",
      "source": [
        "class_totalCount={\"talk.politics.misc\":500,\"sci.med\":500,\"sci.space\":500,\"comp.graphics\":500,\"rec.sport.hockey\":500}"
      ],
      "metadata": {
        "id": "PLhfAEM1IgWG"
      },
      "execution_count": 397,
      "outputs": []
    },
    {
      "cell_type": "markdown",
      "source": [
        "storing probabilities for important features"
      ],
      "metadata": {
        "id": "5dDC2pVpIgWH"
      }
    },
    {
      "cell_type": "code",
      "source": [
        "prob_dict_y={}\n",
        "prob_dict_n={}\n",
        "for i in best_features:\n",
        "  prob_dict_y[i]=[]\n",
        "  prob_dict_n[i]=[]\n",
        "  for j in my_list1:\n",
        "    if j in dict_term_y[i]:\n",
        "      count=dict_term_y[i][j]\n",
        "    else:\n",
        "      count=0\n",
        "    prob_dict_y[i].append((count)/(class_totalCount[j]))\n",
        "    if j in dict_term_n[i]:\n",
        "      count=dict_term_n[i][j]\n",
        "    else:\n",
        "      count=0\n",
        "    prob_dict_n[i].append((count)/(class_totalCount[j]))"
      ],
      "metadata": {
        "id": "X5_v2akxIgWH"
      },
      "execution_count": 398,
      "outputs": []
    },
    {
      "cell_type": "markdown",
      "source": [
        "model training"
      ],
      "metadata": {
        "id": "0GU7yM3dIgWI"
      }
    },
    {
      "cell_type": "code",
      "source": [
        "y_pred=[]\n",
        "for i in range(0,len(X_test)):\n",
        "  data=X_test.iloc[i]\n",
        "  temp_list=data[\"content\"]\n",
        "  k=('sci.med','rec.sport.hockey','talk.politics.misc','comp.graphics','sci.space')\n",
        "  v=(1,1,1,1,1)\n",
        "  d=dict(zip(k,v))\n",
        "  for j in best_features:\n",
        "    if j in temp_list:\n",
        "      d['sci.med']=d['sci.med']*prob_dict_y[j][0]\n",
        "      d['rec.sport.hockey']=d['rec.sport.hockey']*prob_dict_y[j][1]\n",
        "      d['talk.politics.misc']=d['talk.politics.misc']*prob_dict_y[j][2]\n",
        "      d['comp.graphics']=d['comp.graphics']*prob_dict_y[j][3]\n",
        "      d['sci.space']=d['sci.space']*prob_dict_y[j][4]\n",
        "    else:\n",
        "      d['sci.med']=d['sci.med']*prob_dict_n[j][0]\n",
        "      d['rec.sport.hockey']=d['rec.sport.hockey']*prob_dict_n[j][1]\n",
        "      d['talk.politics.misc']=d['talk.politics.misc']*prob_dict_n[j][2]\n",
        "      d['comp.graphics']=d['comp.graphics']*prob_dict_n[j][3]\n",
        "      d['sci.space']=d['sci.space']*prob_dict_n[j][4]\n",
        "  sorted_dict = sorted(d.items(), key=operator.itemgetter(1),reverse=True) \n",
        "  y_pred.append(sorted_dict[0][0])"
      ],
      "metadata": {
        "id": "qKzYRIiGIgWI"
      },
      "execution_count": 399,
      "outputs": []
    },
    {
      "cell_type": "markdown",
      "source": [
        "making prediction"
      ],
      "metadata": {
        "id": "9ytNoxe-IgWJ"
      }
    },
    {
      "cell_type": "code",
      "source": [
        "from sklearn.metrics import accuracy_score,confusion_matrix\n",
        "print(accuracy_score(y_pred,y_test))\n",
        "print(confusion_matrix(y_pred,y_test))"
      ],
      "metadata": {
        "colab": {
          "base_uri": "https://localhost:8080/"
        },
        "outputId": "4fdecb33-81ed-4748-c236-2521155d9040",
        "id": "LizJlCO4IgWK"
      },
      "execution_count": 400,
      "outputs": [
        {
          "output_type": "stream",
          "name": "stdout",
          "text": [
            "0.9196\n",
            "[[493   0   9   0   0]\n",
            " [  0 490   0   0   0]\n",
            " [  6  10 480 134  13]\n",
            " [  1   0   9 350   1]\n",
            " [  0   0   2  16 486]]\n"
          ]
        }
      ]
    }
  ]
}