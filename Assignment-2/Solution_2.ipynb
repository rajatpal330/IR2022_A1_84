{
  "nbformat": 4,
  "nbformat_minor": 0,
  "metadata": {
    "colab": {
      "name": "IR-Assignment2-Q2.ipynb",
      "provenance": [],
      "collapsed_sections": []
    },
    "kernelspec": {
      "name": "python3",
      "display_name": "Python 3"
    },
    "language_info": {
      "name": "python"
    }
  },
  "cells": [
    {
      "cell_type": "code",
      "execution_count": 77,
      "metadata": {
        "colab": {
          "base_uri": "https://localhost:8080/"
        },
        "id": "21NBowdmnzs3",
        "outputId": "cf11d5fb-b8ec-49d2-eab3-f4e736b89020"
      },
      "outputs": [
        {
          "output_type": "stream",
          "name": "stdout",
          "text": [
            "Drive already mounted at /content/gdrive; to attempt to forcibly remount, call drive.mount(\"/content/gdrive\", force_remount=True).\n"
          ]
        }
      ],
      "source": [
        "from google.colab import drive\n",
        "\n",
        "drive.mount(\"/content/gdrive\")"
      ]
    },
    {
      "cell_type": "code",
      "source": [
        "import pandas as pd\n",
        "import numpy as np\n",
        "import re\n",
        "import os\n",
        "import math"
      ],
      "metadata": {
        "id": "9YyHiv0zo_f8"
      },
      "execution_count": 78,
      "outputs": []
    },
    {
      "cell_type": "code",
      "source": [
        "\n"
      ],
      "metadata": {
        "id": "w7clS0W3xL6K"
      },
      "execution_count": 78,
      "outputs": []
    },
    {
      "cell_type": "code",
      "source": [
        "quidsDatta= pd.read_csv('/content/gdrive/MyDrive/IR-assignments/IR-assignment-2-data.csv',sep=' ',header=None)\n"
      ],
      "metadata": {
        "id": "vK-NI8oAxdpe"
      },
      "execution_count": 79,
      "outputs": []
    },
    {
      "cell_type": "code",
      "source": [
        "print(quidsDatta.shape)"
      ],
      "metadata": {
        "id": "Np-8l8evxp7v",
        "colab": {
          "base_uri": "https://localhost:8080/"
        },
        "outputId": "d9f368e1-e4df-4930-f31a-1cf7a8bfea7d"
      },
      "execution_count": 80,
      "outputs": [
        {
          "output_type": "stream",
          "name": "stdout",
          "text": [
            "(239093, 139)\n"
          ]
        }
      ]
    },
    {
      "cell_type": "code",
      "source": [
        "quidFour = quidsDatta[0:103].copy()\n",
        "\n"
      ],
      "metadata": {
        "id": "E-W-CZ_s0dmE"
      },
      "execution_count": 81,
      "outputs": []
    },
    {
      "cell_type": "code",
      "source": [
        "quidFour"
      ],
      "metadata": {
        "id": "pS3jd4fyNV-A",
        "colab": {
          "base_uri": "https://localhost:8080/",
          "height": 487
        },
        "outputId": "3362b3c3-28c6-4da8-bd48-a42ddd633ac2"
      },
      "execution_count": 82,
      "outputs": [
        {
          "output_type": "execute_result",
          "data": {
            "text/plain": [
              "     0      1    2    3    4    5    6           7    8           9    ...  \\\n",
              "0      0  qid:4  1:3  2:0  3:2  4:0  5:3         6:1  7:0  8:0.666667  ...   \n",
              "1      0  qid:4  1:3  2:0  3:3  4:0  5:3         6:1  7:0         8:1  ...   \n",
              "2      0  qid:4  1:3  2:0  3:2  4:0  5:3         6:1  7:0  8:0.666667  ...   \n",
              "3      0  qid:4  1:3  2:0  3:3  4:0  5:3         6:1  7:0         8:1  ...   \n",
              "4      1  qid:4  1:3  2:0  3:3  4:0  5:3         6:1  7:0         8:1  ...   \n",
              "..   ...    ...  ...  ...  ...  ...  ...         ...  ...         ...  ...   \n",
              "98     0  qid:4  1:3  2:0  3:2  4:0  5:3         6:1  7:0  8:0.666667  ...   \n",
              "99     1  qid:4  1:3  2:0  3:3  4:2  5:3         6:1  7:0         8:1  ...   \n",
              "100    2  qid:4  1:2  2:0  3:2  4:0  5:2  6:0.666667  7:0  8:0.666667  ...   \n",
              "101    1  qid:4  1:2  2:0  3:2  4:0  5:2  6:0.666667  7:0  8:0.666667  ...   \n",
              "102    0  qid:4  1:3  2:0  3:2  4:0  5:3         6:1  7:0  8:0.666667  ...   \n",
              "\n",
              "          129     130        131        132      133      134    135      136  \\\n",
              "0       128:2   129:9    130:124   131:4678   132:54   133:74  134:0    135:0   \n",
              "1       128:0   129:8    130:122    131:508  132:131  133:136  134:0    135:0   \n",
              "2       128:2   129:8    130:115    131:508   132:51   133:70  134:0    135:0   \n",
              "3      128:82  129:17    130:122    131:508   132:83  133:107  134:0   135:10   \n",
              "4      128:11   129:8    130:121    131:508  132:103  133:120  134:0    135:0   \n",
              "..        ...     ...        ...        ...      ...      ...    ...      ...   \n",
              "98     128:35   129:1    130:153   131:4872    132:9   133:55  134:0    135:0   \n",
              "99    128:367   129:6    130:153   131:2383   132:18   133:99  134:0   135:16   \n",
              "100     128:0   129:0  130:49182  131:26966   132:15   133:69  134:0  135:193   \n",
              "101     128:0   129:1  130:42877  131:26562   132:12   133:24  134:0   135:56   \n",
              "102  128:1415  129:14   130:5334   131:6434    132:4   133:17  134:0    135:0   \n",
              "\n",
              "                      137 138  \n",
              "0                   136:0 NaN  \n",
              "1                   136:0 NaN  \n",
              "2                   136:0 NaN  \n",
              "3               136:13.35 NaN  \n",
              "4                   136:0 NaN  \n",
              "..                    ...  ..  \n",
              "98                  136:0 NaN  \n",
              "99   136:11.3166666666667 NaN  \n",
              "100  136:21.9355595468361 NaN  \n",
              "101  136:62.9206042323688 NaN  \n",
              "102                 136:0 NaN  \n",
              "\n",
              "[103 rows x 139 columns]"
            ],
            "text/html": [
              "\n",
              "  <div id=\"df-fae396c5-4762-4d9a-8d1d-da35b69e2ad2\">\n",
              "    <div class=\"colab-df-container\">\n",
              "      <div>\n",
              "<style scoped>\n",
              "    .dataframe tbody tr th:only-of-type {\n",
              "        vertical-align: middle;\n",
              "    }\n",
              "\n",
              "    .dataframe tbody tr th {\n",
              "        vertical-align: top;\n",
              "    }\n",
              "\n",
              "    .dataframe thead th {\n",
              "        text-align: right;\n",
              "    }\n",
              "</style>\n",
              "<table border=\"1\" class=\"dataframe\">\n",
              "  <thead>\n",
              "    <tr style=\"text-align: right;\">\n",
              "      <th></th>\n",
              "      <th>0</th>\n",
              "      <th>1</th>\n",
              "      <th>2</th>\n",
              "      <th>3</th>\n",
              "      <th>4</th>\n",
              "      <th>5</th>\n",
              "      <th>6</th>\n",
              "      <th>7</th>\n",
              "      <th>8</th>\n",
              "      <th>9</th>\n",
              "      <th>...</th>\n",
              "      <th>129</th>\n",
              "      <th>130</th>\n",
              "      <th>131</th>\n",
              "      <th>132</th>\n",
              "      <th>133</th>\n",
              "      <th>134</th>\n",
              "      <th>135</th>\n",
              "      <th>136</th>\n",
              "      <th>137</th>\n",
              "      <th>138</th>\n",
              "    </tr>\n",
              "  </thead>\n",
              "  <tbody>\n",
              "    <tr>\n",
              "      <th>0</th>\n",
              "      <td>0</td>\n",
              "      <td>qid:4</td>\n",
              "      <td>1:3</td>\n",
              "      <td>2:0</td>\n",
              "      <td>3:2</td>\n",
              "      <td>4:0</td>\n",
              "      <td>5:3</td>\n",
              "      <td>6:1</td>\n",
              "      <td>7:0</td>\n",
              "      <td>8:0.666667</td>\n",
              "      <td>...</td>\n",
              "      <td>128:2</td>\n",
              "      <td>129:9</td>\n",
              "      <td>130:124</td>\n",
              "      <td>131:4678</td>\n",
              "      <td>132:54</td>\n",
              "      <td>133:74</td>\n",
              "      <td>134:0</td>\n",
              "      <td>135:0</td>\n",
              "      <td>136:0</td>\n",
              "      <td>NaN</td>\n",
              "    </tr>\n",
              "    <tr>\n",
              "      <th>1</th>\n",
              "      <td>0</td>\n",
              "      <td>qid:4</td>\n",
              "      <td>1:3</td>\n",
              "      <td>2:0</td>\n",
              "      <td>3:3</td>\n",
              "      <td>4:0</td>\n",
              "      <td>5:3</td>\n",
              "      <td>6:1</td>\n",
              "      <td>7:0</td>\n",
              "      <td>8:1</td>\n",
              "      <td>...</td>\n",
              "      <td>128:0</td>\n",
              "      <td>129:8</td>\n",
              "      <td>130:122</td>\n",
              "      <td>131:508</td>\n",
              "      <td>132:131</td>\n",
              "      <td>133:136</td>\n",
              "      <td>134:0</td>\n",
              "      <td>135:0</td>\n",
              "      <td>136:0</td>\n",
              "      <td>NaN</td>\n",
              "    </tr>\n",
              "    <tr>\n",
              "      <th>2</th>\n",
              "      <td>0</td>\n",
              "      <td>qid:4</td>\n",
              "      <td>1:3</td>\n",
              "      <td>2:0</td>\n",
              "      <td>3:2</td>\n",
              "      <td>4:0</td>\n",
              "      <td>5:3</td>\n",
              "      <td>6:1</td>\n",
              "      <td>7:0</td>\n",
              "      <td>8:0.666667</td>\n",
              "      <td>...</td>\n",
              "      <td>128:2</td>\n",
              "      <td>129:8</td>\n",
              "      <td>130:115</td>\n",
              "      <td>131:508</td>\n",
              "      <td>132:51</td>\n",
              "      <td>133:70</td>\n",
              "      <td>134:0</td>\n",
              "      <td>135:0</td>\n",
              "      <td>136:0</td>\n",
              "      <td>NaN</td>\n",
              "    </tr>\n",
              "    <tr>\n",
              "      <th>3</th>\n",
              "      <td>0</td>\n",
              "      <td>qid:4</td>\n",
              "      <td>1:3</td>\n",
              "      <td>2:0</td>\n",
              "      <td>3:3</td>\n",
              "      <td>4:0</td>\n",
              "      <td>5:3</td>\n",
              "      <td>6:1</td>\n",
              "      <td>7:0</td>\n",
              "      <td>8:1</td>\n",
              "      <td>...</td>\n",
              "      <td>128:82</td>\n",
              "      <td>129:17</td>\n",
              "      <td>130:122</td>\n",
              "      <td>131:508</td>\n",
              "      <td>132:83</td>\n",
              "      <td>133:107</td>\n",
              "      <td>134:0</td>\n",
              "      <td>135:10</td>\n",
              "      <td>136:13.35</td>\n",
              "      <td>NaN</td>\n",
              "    </tr>\n",
              "    <tr>\n",
              "      <th>4</th>\n",
              "      <td>1</td>\n",
              "      <td>qid:4</td>\n",
              "      <td>1:3</td>\n",
              "      <td>2:0</td>\n",
              "      <td>3:3</td>\n",
              "      <td>4:0</td>\n",
              "      <td>5:3</td>\n",
              "      <td>6:1</td>\n",
              "      <td>7:0</td>\n",
              "      <td>8:1</td>\n",
              "      <td>...</td>\n",
              "      <td>128:11</td>\n",
              "      <td>129:8</td>\n",
              "      <td>130:121</td>\n",
              "      <td>131:508</td>\n",
              "      <td>132:103</td>\n",
              "      <td>133:120</td>\n",
              "      <td>134:0</td>\n",
              "      <td>135:0</td>\n",
              "      <td>136:0</td>\n",
              "      <td>NaN</td>\n",
              "    </tr>\n",
              "    <tr>\n",
              "      <th>...</th>\n",
              "      <td>...</td>\n",
              "      <td>...</td>\n",
              "      <td>...</td>\n",
              "      <td>...</td>\n",
              "      <td>...</td>\n",
              "      <td>...</td>\n",
              "      <td>...</td>\n",
              "      <td>...</td>\n",
              "      <td>...</td>\n",
              "      <td>...</td>\n",
              "      <td>...</td>\n",
              "      <td>...</td>\n",
              "      <td>...</td>\n",
              "      <td>...</td>\n",
              "      <td>...</td>\n",
              "      <td>...</td>\n",
              "      <td>...</td>\n",
              "      <td>...</td>\n",
              "      <td>...</td>\n",
              "      <td>...</td>\n",
              "      <td>...</td>\n",
              "    </tr>\n",
              "    <tr>\n",
              "      <th>98</th>\n",
              "      <td>0</td>\n",
              "      <td>qid:4</td>\n",
              "      <td>1:3</td>\n",
              "      <td>2:0</td>\n",
              "      <td>3:2</td>\n",
              "      <td>4:0</td>\n",
              "      <td>5:3</td>\n",
              "      <td>6:1</td>\n",
              "      <td>7:0</td>\n",
              "      <td>8:0.666667</td>\n",
              "      <td>...</td>\n",
              "      <td>128:35</td>\n",
              "      <td>129:1</td>\n",
              "      <td>130:153</td>\n",
              "      <td>131:4872</td>\n",
              "      <td>132:9</td>\n",
              "      <td>133:55</td>\n",
              "      <td>134:0</td>\n",
              "      <td>135:0</td>\n",
              "      <td>136:0</td>\n",
              "      <td>NaN</td>\n",
              "    </tr>\n",
              "    <tr>\n",
              "      <th>99</th>\n",
              "      <td>1</td>\n",
              "      <td>qid:4</td>\n",
              "      <td>1:3</td>\n",
              "      <td>2:0</td>\n",
              "      <td>3:3</td>\n",
              "      <td>4:2</td>\n",
              "      <td>5:3</td>\n",
              "      <td>6:1</td>\n",
              "      <td>7:0</td>\n",
              "      <td>8:1</td>\n",
              "      <td>...</td>\n",
              "      <td>128:367</td>\n",
              "      <td>129:6</td>\n",
              "      <td>130:153</td>\n",
              "      <td>131:2383</td>\n",
              "      <td>132:18</td>\n",
              "      <td>133:99</td>\n",
              "      <td>134:0</td>\n",
              "      <td>135:16</td>\n",
              "      <td>136:11.3166666666667</td>\n",
              "      <td>NaN</td>\n",
              "    </tr>\n",
              "    <tr>\n",
              "      <th>100</th>\n",
              "      <td>2</td>\n",
              "      <td>qid:4</td>\n",
              "      <td>1:2</td>\n",
              "      <td>2:0</td>\n",
              "      <td>3:2</td>\n",
              "      <td>4:0</td>\n",
              "      <td>5:2</td>\n",
              "      <td>6:0.666667</td>\n",
              "      <td>7:0</td>\n",
              "      <td>8:0.666667</td>\n",
              "      <td>...</td>\n",
              "      <td>128:0</td>\n",
              "      <td>129:0</td>\n",
              "      <td>130:49182</td>\n",
              "      <td>131:26966</td>\n",
              "      <td>132:15</td>\n",
              "      <td>133:69</td>\n",
              "      <td>134:0</td>\n",
              "      <td>135:193</td>\n",
              "      <td>136:21.9355595468361</td>\n",
              "      <td>NaN</td>\n",
              "    </tr>\n",
              "    <tr>\n",
              "      <th>101</th>\n",
              "      <td>1</td>\n",
              "      <td>qid:4</td>\n",
              "      <td>1:2</td>\n",
              "      <td>2:0</td>\n",
              "      <td>3:2</td>\n",
              "      <td>4:0</td>\n",
              "      <td>5:2</td>\n",
              "      <td>6:0.666667</td>\n",
              "      <td>7:0</td>\n",
              "      <td>8:0.666667</td>\n",
              "      <td>...</td>\n",
              "      <td>128:0</td>\n",
              "      <td>129:1</td>\n",
              "      <td>130:42877</td>\n",
              "      <td>131:26562</td>\n",
              "      <td>132:12</td>\n",
              "      <td>133:24</td>\n",
              "      <td>134:0</td>\n",
              "      <td>135:56</td>\n",
              "      <td>136:62.9206042323688</td>\n",
              "      <td>NaN</td>\n",
              "    </tr>\n",
              "    <tr>\n",
              "      <th>102</th>\n",
              "      <td>0</td>\n",
              "      <td>qid:4</td>\n",
              "      <td>1:3</td>\n",
              "      <td>2:0</td>\n",
              "      <td>3:2</td>\n",
              "      <td>4:0</td>\n",
              "      <td>5:3</td>\n",
              "      <td>6:1</td>\n",
              "      <td>7:0</td>\n",
              "      <td>8:0.666667</td>\n",
              "      <td>...</td>\n",
              "      <td>128:1415</td>\n",
              "      <td>129:14</td>\n",
              "      <td>130:5334</td>\n",
              "      <td>131:6434</td>\n",
              "      <td>132:4</td>\n",
              "      <td>133:17</td>\n",
              "      <td>134:0</td>\n",
              "      <td>135:0</td>\n",
              "      <td>136:0</td>\n",
              "      <td>NaN</td>\n",
              "    </tr>\n",
              "  </tbody>\n",
              "</table>\n",
              "<p>103 rows × 139 columns</p>\n",
              "</div>\n",
              "      <button class=\"colab-df-convert\" onclick=\"convertToInteractive('df-fae396c5-4762-4d9a-8d1d-da35b69e2ad2')\"\n",
              "              title=\"Convert this dataframe to an interactive table.\"\n",
              "              style=\"display:none;\">\n",
              "        \n",
              "  <svg xmlns=\"http://www.w3.org/2000/svg\" height=\"24px\"viewBox=\"0 0 24 24\"\n",
              "       width=\"24px\">\n",
              "    <path d=\"M0 0h24v24H0V0z\" fill=\"none\"/>\n",
              "    <path d=\"M18.56 5.44l.94 2.06.94-2.06 2.06-.94-2.06-.94-.94-2.06-.94 2.06-2.06.94zm-11 1L8.5 8.5l.94-2.06 2.06-.94-2.06-.94L8.5 2.5l-.94 2.06-2.06.94zm10 10l.94 2.06.94-2.06 2.06-.94-2.06-.94-.94-2.06-.94 2.06-2.06.94z\"/><path d=\"M17.41 7.96l-1.37-1.37c-.4-.4-.92-.59-1.43-.59-.52 0-1.04.2-1.43.59L10.3 9.45l-7.72 7.72c-.78.78-.78 2.05 0 2.83L4 21.41c.39.39.9.59 1.41.59.51 0 1.02-.2 1.41-.59l7.78-7.78 2.81-2.81c.8-.78.8-2.07 0-2.86zM5.41 20L4 18.59l7.72-7.72 1.47 1.35L5.41 20z\"/>\n",
              "  </svg>\n",
              "      </button>\n",
              "      \n",
              "  <style>\n",
              "    .colab-df-container {\n",
              "      display:flex;\n",
              "      flex-wrap:wrap;\n",
              "      gap: 12px;\n",
              "    }\n",
              "\n",
              "    .colab-df-convert {\n",
              "      background-color: #E8F0FE;\n",
              "      border: none;\n",
              "      border-radius: 50%;\n",
              "      cursor: pointer;\n",
              "      display: none;\n",
              "      fill: #1967D2;\n",
              "      height: 32px;\n",
              "      padding: 0 0 0 0;\n",
              "      width: 32px;\n",
              "    }\n",
              "\n",
              "    .colab-df-convert:hover {\n",
              "      background-color: #E2EBFA;\n",
              "      box-shadow: 0px 1px 2px rgba(60, 64, 67, 0.3), 0px 1px 3px 1px rgba(60, 64, 67, 0.15);\n",
              "      fill: #174EA6;\n",
              "    }\n",
              "\n",
              "    [theme=dark] .colab-df-convert {\n",
              "      background-color: #3B4455;\n",
              "      fill: #D2E3FC;\n",
              "    }\n",
              "\n",
              "    [theme=dark] .colab-df-convert:hover {\n",
              "      background-color: #434B5C;\n",
              "      box-shadow: 0px 1px 3px 1px rgba(0, 0, 0, 0.15);\n",
              "      filter: drop-shadow(0px 1px 2px rgba(0, 0, 0, 0.3));\n",
              "      fill: #FFFFFF;\n",
              "    }\n",
              "  </style>\n",
              "\n",
              "      <script>\n",
              "        const buttonEl =\n",
              "          document.querySelector('#df-fae396c5-4762-4d9a-8d1d-da35b69e2ad2 button.colab-df-convert');\n",
              "        buttonEl.style.display =\n",
              "          google.colab.kernel.accessAllowed ? 'block' : 'none';\n",
              "\n",
              "        async function convertToInteractive(key) {\n",
              "          const element = document.querySelector('#df-fae396c5-4762-4d9a-8d1d-da35b69e2ad2');\n",
              "          const dataTable =\n",
              "            await google.colab.kernel.invokeFunction('convertToInteractive',\n",
              "                                                     [key], {});\n",
              "          if (!dataTable) return;\n",
              "\n",
              "          const docLinkHtml = 'Like what you see? Visit the ' +\n",
              "            '<a target=\"_blank\" href=https://colab.research.google.com/notebooks/data_table.ipynb>data table notebook</a>'\n",
              "            + ' to learn more about interactive tables.';\n",
              "          element.innerHTML = '';\n",
              "          dataTable['output_type'] = 'display_data';\n",
              "          await google.colab.output.renderOutput(dataTable, element);\n",
              "          const docLink = document.createElement('div');\n",
              "          docLink.innerHTML = docLinkHtml;\n",
              "          element.appendChild(docLink);\n",
              "        }\n",
              "      </script>\n",
              "    </div>\n",
              "  </div>\n",
              "  "
            ]
          },
          "metadata": {},
          "execution_count": 82
        }
      ]
    },
    {
      "cell_type": "markdown",
      "source": [
        ""
      ],
      "metadata": {
        "id": "v8EW4bbdPPWs"
      }
    },
    {
      "cell_type": "markdown",
      "source": [
        "# Rearrangement of Query-Url pairs"
      ],
      "metadata": {
        "id": "xWlxwuahPcZS"
      }
    },
    {
      "cell_type": "code",
      "source": [
        "quidFour.shape[0]"
      ],
      "metadata": {
        "colab": {
          "base_uri": "https://localhost:8080/"
        },
        "id": "h7MeipaIV1Rq",
        "outputId": "0432c284-d0da-480a-9ae2-cdcbbd25b61b"
      },
      "execution_count": 83,
      "outputs": [
        {
          "output_type": "execute_result",
          "data": {
            "text/plain": [
              "103"
            ]
          },
          "metadata": {},
          "execution_count": 83
        }
      ]
    },
    {
      "cell_type": "code",
      "source": [
        "dcg_Vales = []"
      ],
      "metadata": {
        "id": "CT2iOwIOQcov"
      },
      "execution_count": 84,
      "outputs": []
    },
    {
      "cell_type": "code",
      "source": [
        "for curRow in range(quidFour.shape[0]):\n",
        "  currQuiStr = quidFour.iloc[curRow][0]\n",
        "  dcg_Vales.append(currQuiStr)"
      ],
      "metadata": {
        "id": "q_XOOC84QesW"
      },
      "execution_count": 85,
      "outputs": []
    },
    {
      "cell_type": "code",
      "source": [
        "print(dcg_Vales)"
      ],
      "metadata": {
        "colab": {
          "base_uri": "https://localhost:8080/"
        },
        "id": "kJxoXPgCURKZ",
        "outputId": "21d5287a-11a8-4b32-dc7d-79635910b4b8"
      },
      "execution_count": 86,
      "outputs": [
        {
          "output_type": "stream",
          "name": "stdout",
          "text": [
            "[0, 0, 0, 0, 1, 0, 1, 3, 0, 0, 1, 0, 0, 1, 0, 0, 0, 1, 2, 2, 1, 2, 2, 0, 1, 2, 0, 0, 0, 1, 0, 0, 1, 0, 2, 0, 2, 2, 1, 0, 2, 0, 0, 0, 0, 0, 0, 0, 0, 0, 0, 0, 2, 1, 0, 1, 0, 0, 2, 0, 1, 2, 2, 0, 0, 0, 1, 0, 2, 0, 0, 0, 1, 0, 1, 1, 2, 0, 0, 0, 0, 0, 1, 1, 1, 1, 0, 0, 1, 0, 2, 0, 1, 0, 0, 0, 1, 0, 0, 1, 2, 1, 0]\n"
          ]
        }
      ]
    },
    {
      "cell_type": "markdown",
      "source": [
        "#Part 2"
      ],
      "metadata": {
        "id": "s076WdWZPihG"
      }
    },
    {
      "cell_type": "code",
      "source": [
        "newDatta_Part1 = quidFour.copy()\n"
      ],
      "metadata": {
        "id": "psXde2n6PO3t"
      },
      "execution_count": 87,
      "outputs": []
    },
    {
      "cell_type": "code",
      "source": [
        "newDatta_Part1 = newDatta_Part1.sort_values(by=[0], ascending=False)"
      ],
      "metadata": {
        "id": "2SVCJTHCPkru"
      },
      "execution_count": 88,
      "outputs": []
    },
    {
      "cell_type": "code",
      "source": [
        "newDatta_Part1"
      ],
      "metadata": {
        "colab": {
          "base_uri": "https://localhost:8080/",
          "height": 487
        },
        "id": "yeddxqazPkto",
        "outputId": "d567b980-4aa5-4351-c98f-094bfb903aed"
      },
      "execution_count": 89,
      "outputs": [
        {
          "output_type": "execute_result",
          "data": {
            "text/plain": [
              "     0      1    2    3    4    5    6           7           8           9    \\\n",
              "7      3  qid:4  1:3  2:0  3:2  4:1  5:3         6:1         7:0  8:0.666667   \n",
              "76     2  qid:4  1:2  2:0  3:1  4:0  5:2  6:0.666667         7:0  8:0.333333   \n",
              "40     2  qid:4  1:3  2:2  3:2  4:0  5:3         6:1  7:0.666667  8:0.666667   \n",
              "36     2  qid:4  1:3  2:0  3:2  4:0  5:3         6:1         7:0  8:0.666667   \n",
              "90     2  qid:4  1:3  2:0  3:3  4:3  5:3         6:1         7:0         8:1   \n",
              "..   ...    ...  ...  ...  ...  ...  ...         ...         ...         ...   \n",
              "44     0  qid:4  1:2  2:0  3:0  4:0  5:2  6:0.666667         7:0         8:0   \n",
              "43     0  qid:4  1:2  2:0  3:0  4:0  5:2  6:0.666667         7:0         8:0   \n",
              "42     0  qid:4  1:3  2:0  3:3  4:1  5:3         6:1         7:0         8:1   \n",
              "41     0  qid:4  1:3  2:1  3:3  4:2  5:3         6:1  7:0.333333         8:1   \n",
              "102    0  qid:4  1:3  2:0  3:2  4:0  5:3         6:1         7:0  8:0.666667   \n",
              "\n",
              "     ...       129     130        131        132      133      134    135  \\\n",
              "7    ...   128:349   129:8    130:123    131:281   132:22    133:6  134:0   \n",
              "76   ...     128:0   129:0   130:2417    131:721   132:14  133:113  134:0   \n",
              "40   ...     128:8   129:3   130:1888   131:9338    132:3   133:11  134:0   \n",
              "36   ...     128:0   129:2  130:12028  131:11379   132:26   133:24  134:0   \n",
              "90   ...    128:27   129:0    130:814  131:13555  132:108  133:113  134:0   \n",
              "..   ...       ...     ...        ...        ...      ...      ...    ...   \n",
              "44   ...     128:8   129:0    130:868   131:9260  132:246   133:88  134:0   \n",
              "43   ...     128:4   129:0    130:797   131:9260  132:237   133:80  134:0   \n",
              "42   ...    128:83   129:5    130:144    131:262  132:157  133:179  134:0   \n",
              "41   ...   128:195   129:8    130:124    131:206  132:103  133:121  134:0   \n",
              "102  ...  128:1415  129:14   130:5334   131:6434    132:4   133:17  134:0   \n",
              "\n",
              "        136                   137 138  \n",
              "7     135:0                 136:0 NaN  \n",
              "76   135:13              136:47.9 NaN  \n",
              "40    135:0                 136:0 NaN  \n",
              "36   135:77  136:23.9595223404047 NaN  \n",
              "90    135:0                 136:0 NaN  \n",
              "..      ...                   ...  ..  \n",
              "44    135:0                 136:0 NaN  \n",
              "43    135:0                 136:0 NaN  \n",
              "42    135:0                 136:0 NaN  \n",
              "41    135:0                 136:0 NaN  \n",
              "102   135:0                 136:0 NaN  \n",
              "\n",
              "[103 rows x 139 columns]"
            ],
            "text/html": [
              "\n",
              "  <div id=\"df-cfb4d608-267d-40d7-a710-44084aa5da0a\">\n",
              "    <div class=\"colab-df-container\">\n",
              "      <div>\n",
              "<style scoped>\n",
              "    .dataframe tbody tr th:only-of-type {\n",
              "        vertical-align: middle;\n",
              "    }\n",
              "\n",
              "    .dataframe tbody tr th {\n",
              "        vertical-align: top;\n",
              "    }\n",
              "\n",
              "    .dataframe thead th {\n",
              "        text-align: right;\n",
              "    }\n",
              "</style>\n",
              "<table border=\"1\" class=\"dataframe\">\n",
              "  <thead>\n",
              "    <tr style=\"text-align: right;\">\n",
              "      <th></th>\n",
              "      <th>0</th>\n",
              "      <th>1</th>\n",
              "      <th>2</th>\n",
              "      <th>3</th>\n",
              "      <th>4</th>\n",
              "      <th>5</th>\n",
              "      <th>6</th>\n",
              "      <th>7</th>\n",
              "      <th>8</th>\n",
              "      <th>9</th>\n",
              "      <th>...</th>\n",
              "      <th>129</th>\n",
              "      <th>130</th>\n",
              "      <th>131</th>\n",
              "      <th>132</th>\n",
              "      <th>133</th>\n",
              "      <th>134</th>\n",
              "      <th>135</th>\n",
              "      <th>136</th>\n",
              "      <th>137</th>\n",
              "      <th>138</th>\n",
              "    </tr>\n",
              "  </thead>\n",
              "  <tbody>\n",
              "    <tr>\n",
              "      <th>7</th>\n",
              "      <td>3</td>\n",
              "      <td>qid:4</td>\n",
              "      <td>1:3</td>\n",
              "      <td>2:0</td>\n",
              "      <td>3:2</td>\n",
              "      <td>4:1</td>\n",
              "      <td>5:3</td>\n",
              "      <td>6:1</td>\n",
              "      <td>7:0</td>\n",
              "      <td>8:0.666667</td>\n",
              "      <td>...</td>\n",
              "      <td>128:349</td>\n",
              "      <td>129:8</td>\n",
              "      <td>130:123</td>\n",
              "      <td>131:281</td>\n",
              "      <td>132:22</td>\n",
              "      <td>133:6</td>\n",
              "      <td>134:0</td>\n",
              "      <td>135:0</td>\n",
              "      <td>136:0</td>\n",
              "      <td>NaN</td>\n",
              "    </tr>\n",
              "    <tr>\n",
              "      <th>76</th>\n",
              "      <td>2</td>\n",
              "      <td>qid:4</td>\n",
              "      <td>1:2</td>\n",
              "      <td>2:0</td>\n",
              "      <td>3:1</td>\n",
              "      <td>4:0</td>\n",
              "      <td>5:2</td>\n",
              "      <td>6:0.666667</td>\n",
              "      <td>7:0</td>\n",
              "      <td>8:0.333333</td>\n",
              "      <td>...</td>\n",
              "      <td>128:0</td>\n",
              "      <td>129:0</td>\n",
              "      <td>130:2417</td>\n",
              "      <td>131:721</td>\n",
              "      <td>132:14</td>\n",
              "      <td>133:113</td>\n",
              "      <td>134:0</td>\n",
              "      <td>135:13</td>\n",
              "      <td>136:47.9</td>\n",
              "      <td>NaN</td>\n",
              "    </tr>\n",
              "    <tr>\n",
              "      <th>40</th>\n",
              "      <td>2</td>\n",
              "      <td>qid:4</td>\n",
              "      <td>1:3</td>\n",
              "      <td>2:2</td>\n",
              "      <td>3:2</td>\n",
              "      <td>4:0</td>\n",
              "      <td>5:3</td>\n",
              "      <td>6:1</td>\n",
              "      <td>7:0.666667</td>\n",
              "      <td>8:0.666667</td>\n",
              "      <td>...</td>\n",
              "      <td>128:8</td>\n",
              "      <td>129:3</td>\n",
              "      <td>130:1888</td>\n",
              "      <td>131:9338</td>\n",
              "      <td>132:3</td>\n",
              "      <td>133:11</td>\n",
              "      <td>134:0</td>\n",
              "      <td>135:0</td>\n",
              "      <td>136:0</td>\n",
              "      <td>NaN</td>\n",
              "    </tr>\n",
              "    <tr>\n",
              "      <th>36</th>\n",
              "      <td>2</td>\n",
              "      <td>qid:4</td>\n",
              "      <td>1:3</td>\n",
              "      <td>2:0</td>\n",
              "      <td>3:2</td>\n",
              "      <td>4:0</td>\n",
              "      <td>5:3</td>\n",
              "      <td>6:1</td>\n",
              "      <td>7:0</td>\n",
              "      <td>8:0.666667</td>\n",
              "      <td>...</td>\n",
              "      <td>128:0</td>\n",
              "      <td>129:2</td>\n",
              "      <td>130:12028</td>\n",
              "      <td>131:11379</td>\n",
              "      <td>132:26</td>\n",
              "      <td>133:24</td>\n",
              "      <td>134:0</td>\n",
              "      <td>135:77</td>\n",
              "      <td>136:23.9595223404047</td>\n",
              "      <td>NaN</td>\n",
              "    </tr>\n",
              "    <tr>\n",
              "      <th>90</th>\n",
              "      <td>2</td>\n",
              "      <td>qid:4</td>\n",
              "      <td>1:3</td>\n",
              "      <td>2:0</td>\n",
              "      <td>3:3</td>\n",
              "      <td>4:3</td>\n",
              "      <td>5:3</td>\n",
              "      <td>6:1</td>\n",
              "      <td>7:0</td>\n",
              "      <td>8:1</td>\n",
              "      <td>...</td>\n",
              "      <td>128:27</td>\n",
              "      <td>129:0</td>\n",
              "      <td>130:814</td>\n",
              "      <td>131:13555</td>\n",
              "      <td>132:108</td>\n",
              "      <td>133:113</td>\n",
              "      <td>134:0</td>\n",
              "      <td>135:0</td>\n",
              "      <td>136:0</td>\n",
              "      <td>NaN</td>\n",
              "    </tr>\n",
              "    <tr>\n",
              "      <th>...</th>\n",
              "      <td>...</td>\n",
              "      <td>...</td>\n",
              "      <td>...</td>\n",
              "      <td>...</td>\n",
              "      <td>...</td>\n",
              "      <td>...</td>\n",
              "      <td>...</td>\n",
              "      <td>...</td>\n",
              "      <td>...</td>\n",
              "      <td>...</td>\n",
              "      <td>...</td>\n",
              "      <td>...</td>\n",
              "      <td>...</td>\n",
              "      <td>...</td>\n",
              "      <td>...</td>\n",
              "      <td>...</td>\n",
              "      <td>...</td>\n",
              "      <td>...</td>\n",
              "      <td>...</td>\n",
              "      <td>...</td>\n",
              "      <td>...</td>\n",
              "    </tr>\n",
              "    <tr>\n",
              "      <th>44</th>\n",
              "      <td>0</td>\n",
              "      <td>qid:4</td>\n",
              "      <td>1:2</td>\n",
              "      <td>2:0</td>\n",
              "      <td>3:0</td>\n",
              "      <td>4:0</td>\n",
              "      <td>5:2</td>\n",
              "      <td>6:0.666667</td>\n",
              "      <td>7:0</td>\n",
              "      <td>8:0</td>\n",
              "      <td>...</td>\n",
              "      <td>128:8</td>\n",
              "      <td>129:0</td>\n",
              "      <td>130:868</td>\n",
              "      <td>131:9260</td>\n",
              "      <td>132:246</td>\n",
              "      <td>133:88</td>\n",
              "      <td>134:0</td>\n",
              "      <td>135:0</td>\n",
              "      <td>136:0</td>\n",
              "      <td>NaN</td>\n",
              "    </tr>\n",
              "    <tr>\n",
              "      <th>43</th>\n",
              "      <td>0</td>\n",
              "      <td>qid:4</td>\n",
              "      <td>1:2</td>\n",
              "      <td>2:0</td>\n",
              "      <td>3:0</td>\n",
              "      <td>4:0</td>\n",
              "      <td>5:2</td>\n",
              "      <td>6:0.666667</td>\n",
              "      <td>7:0</td>\n",
              "      <td>8:0</td>\n",
              "      <td>...</td>\n",
              "      <td>128:4</td>\n",
              "      <td>129:0</td>\n",
              "      <td>130:797</td>\n",
              "      <td>131:9260</td>\n",
              "      <td>132:237</td>\n",
              "      <td>133:80</td>\n",
              "      <td>134:0</td>\n",
              "      <td>135:0</td>\n",
              "      <td>136:0</td>\n",
              "      <td>NaN</td>\n",
              "    </tr>\n",
              "    <tr>\n",
              "      <th>42</th>\n",
              "      <td>0</td>\n",
              "      <td>qid:4</td>\n",
              "      <td>1:3</td>\n",
              "      <td>2:0</td>\n",
              "      <td>3:3</td>\n",
              "      <td>4:1</td>\n",
              "      <td>5:3</td>\n",
              "      <td>6:1</td>\n",
              "      <td>7:0</td>\n",
              "      <td>8:1</td>\n",
              "      <td>...</td>\n",
              "      <td>128:83</td>\n",
              "      <td>129:5</td>\n",
              "      <td>130:144</td>\n",
              "      <td>131:262</td>\n",
              "      <td>132:157</td>\n",
              "      <td>133:179</td>\n",
              "      <td>134:0</td>\n",
              "      <td>135:0</td>\n",
              "      <td>136:0</td>\n",
              "      <td>NaN</td>\n",
              "    </tr>\n",
              "    <tr>\n",
              "      <th>41</th>\n",
              "      <td>0</td>\n",
              "      <td>qid:4</td>\n",
              "      <td>1:3</td>\n",
              "      <td>2:1</td>\n",
              "      <td>3:3</td>\n",
              "      <td>4:2</td>\n",
              "      <td>5:3</td>\n",
              "      <td>6:1</td>\n",
              "      <td>7:0.333333</td>\n",
              "      <td>8:1</td>\n",
              "      <td>...</td>\n",
              "      <td>128:195</td>\n",
              "      <td>129:8</td>\n",
              "      <td>130:124</td>\n",
              "      <td>131:206</td>\n",
              "      <td>132:103</td>\n",
              "      <td>133:121</td>\n",
              "      <td>134:0</td>\n",
              "      <td>135:0</td>\n",
              "      <td>136:0</td>\n",
              "      <td>NaN</td>\n",
              "    </tr>\n",
              "    <tr>\n",
              "      <th>102</th>\n",
              "      <td>0</td>\n",
              "      <td>qid:4</td>\n",
              "      <td>1:3</td>\n",
              "      <td>2:0</td>\n",
              "      <td>3:2</td>\n",
              "      <td>4:0</td>\n",
              "      <td>5:3</td>\n",
              "      <td>6:1</td>\n",
              "      <td>7:0</td>\n",
              "      <td>8:0.666667</td>\n",
              "      <td>...</td>\n",
              "      <td>128:1415</td>\n",
              "      <td>129:14</td>\n",
              "      <td>130:5334</td>\n",
              "      <td>131:6434</td>\n",
              "      <td>132:4</td>\n",
              "      <td>133:17</td>\n",
              "      <td>134:0</td>\n",
              "      <td>135:0</td>\n",
              "      <td>136:0</td>\n",
              "      <td>NaN</td>\n",
              "    </tr>\n",
              "  </tbody>\n",
              "</table>\n",
              "<p>103 rows × 139 columns</p>\n",
              "</div>\n",
              "      <button class=\"colab-df-convert\" onclick=\"convertToInteractive('df-cfb4d608-267d-40d7-a710-44084aa5da0a')\"\n",
              "              title=\"Convert this dataframe to an interactive table.\"\n",
              "              style=\"display:none;\">\n",
              "        \n",
              "  <svg xmlns=\"http://www.w3.org/2000/svg\" height=\"24px\"viewBox=\"0 0 24 24\"\n",
              "       width=\"24px\">\n",
              "    <path d=\"M0 0h24v24H0V0z\" fill=\"none\"/>\n",
              "    <path d=\"M18.56 5.44l.94 2.06.94-2.06 2.06-.94-2.06-.94-.94-2.06-.94 2.06-2.06.94zm-11 1L8.5 8.5l.94-2.06 2.06-.94-2.06-.94L8.5 2.5l-.94 2.06-2.06.94zm10 10l.94 2.06.94-2.06 2.06-.94-2.06-.94-.94-2.06-.94 2.06-2.06.94z\"/><path d=\"M17.41 7.96l-1.37-1.37c-.4-.4-.92-.59-1.43-.59-.52 0-1.04.2-1.43.59L10.3 9.45l-7.72 7.72c-.78.78-.78 2.05 0 2.83L4 21.41c.39.39.9.59 1.41.59.51 0 1.02-.2 1.41-.59l7.78-7.78 2.81-2.81c.8-.78.8-2.07 0-2.86zM5.41 20L4 18.59l7.72-7.72 1.47 1.35L5.41 20z\"/>\n",
              "  </svg>\n",
              "      </button>\n",
              "      \n",
              "  <style>\n",
              "    .colab-df-container {\n",
              "      display:flex;\n",
              "      flex-wrap:wrap;\n",
              "      gap: 12px;\n",
              "    }\n",
              "\n",
              "    .colab-df-convert {\n",
              "      background-color: #E8F0FE;\n",
              "      border: none;\n",
              "      border-radius: 50%;\n",
              "      cursor: pointer;\n",
              "      display: none;\n",
              "      fill: #1967D2;\n",
              "      height: 32px;\n",
              "      padding: 0 0 0 0;\n",
              "      width: 32px;\n",
              "    }\n",
              "\n",
              "    .colab-df-convert:hover {\n",
              "      background-color: #E2EBFA;\n",
              "      box-shadow: 0px 1px 2px rgba(60, 64, 67, 0.3), 0px 1px 3px 1px rgba(60, 64, 67, 0.15);\n",
              "      fill: #174EA6;\n",
              "    }\n",
              "\n",
              "    [theme=dark] .colab-df-convert {\n",
              "      background-color: #3B4455;\n",
              "      fill: #D2E3FC;\n",
              "    }\n",
              "\n",
              "    [theme=dark] .colab-df-convert:hover {\n",
              "      background-color: #434B5C;\n",
              "      box-shadow: 0px 1px 3px 1px rgba(0, 0, 0, 0.15);\n",
              "      filter: drop-shadow(0px 1px 2px rgba(0, 0, 0, 0.3));\n",
              "      fill: #FFFFFF;\n",
              "    }\n",
              "  </style>\n",
              "\n",
              "      <script>\n",
              "        const buttonEl =\n",
              "          document.querySelector('#df-cfb4d608-267d-40d7-a710-44084aa5da0a button.colab-df-convert');\n",
              "        buttonEl.style.display =\n",
              "          google.colab.kernel.accessAllowed ? 'block' : 'none';\n",
              "\n",
              "        async function convertToInteractive(key) {\n",
              "          const element = document.querySelector('#df-cfb4d608-267d-40d7-a710-44084aa5da0a');\n",
              "          const dataTable =\n",
              "            await google.colab.kernel.invokeFunction('convertToInteractive',\n",
              "                                                     [key], {});\n",
              "          if (!dataTable) return;\n",
              "\n",
              "          const docLinkHtml = 'Like what you see? Visit the ' +\n",
              "            '<a target=\"_blank\" href=https://colab.research.google.com/notebooks/data_table.ipynb>data table notebook</a>'\n",
              "            + ' to learn more about interactive tables.';\n",
              "          element.innerHTML = '';\n",
              "          dataTable['output_type'] = 'display_data';\n",
              "          await google.colab.output.renderOutput(dataTable, element);\n",
              "          const docLink = document.createElement('div');\n",
              "          docLink.innerHTML = docLinkHtml;\n",
              "          element.appendChild(docLink);\n",
              "        }\n",
              "      </script>\n",
              "    </div>\n",
              "  </div>\n",
              "  "
            ]
          },
          "metadata": {},
          "execution_count": 89
        }
      ]
    },
    {
      "cell_type": "markdown",
      "source": [
        "# Saving the max DCG file"
      ],
      "metadata": {
        "id": "1WWbUCSOcvI4"
      }
    },
    {
      "cell_type": "code",
      "source": [
        "newDatta_Part1.to_csv('Q2Part2.csv',index=False)"
      ],
      "metadata": {
        "id": "UacEjsqxbfd3"
      },
      "execution_count": 90,
      "outputs": []
    },
    {
      "cell_type": "markdown",
      "source": [
        "# How many such files will be There ?"
      ],
      "metadata": {
        "id": "3Sk4MHh7d1Yf"
      }
    },
    {
      "cell_type": "code",
      "source": [
        "import collections\n",
        "collections.Counter(dcg_Vales)"
      ],
      "metadata": {
        "colab": {
          "base_uri": "https://localhost:8080/"
        },
        "id": "PZtYl_2JdwuL",
        "outputId": "7b4c2eb0-4e78-4aa2-da2f-9b86cbae58b9"
      },
      "execution_count": 91,
      "outputs": [
        {
          "output_type": "execute_result",
          "data": {
            "text/plain": [
              "Counter({0: 59, 1: 26, 2: 17, 3: 1})"
            ]
          },
          "metadata": {},
          "execution_count": 91
        }
      ]
    },
    {
      "cell_type": "code",
      "source": [
        "def givemyFact(num):\n",
        "\tif num==0 or num==1:\n",
        "\t\treturn 1\n",
        "\telse:\n",
        "\t\treturn num*givemyFact(num-1)"
      ],
      "metadata": {
        "id": "BayAHoqFbfhv"
      },
      "execution_count": 92,
      "outputs": []
    },
    {
      "cell_type": "code",
      "source": [
        "myWay1 = givemyFact(1) # for 3\n",
        "myWay2 = givemyFact(17)# for 2\n",
        "myWay3 = givemyFact(26)# for 1\n",
        "myWay4 = givemyFact(59) #for 0 \n"
      ],
      "metadata": {
        "id": "4u0OkScxbfjx"
      },
      "execution_count": 93,
      "outputs": []
    },
    {
      "cell_type": "code",
      "source": [
        "totalSuchFiles = myWay1 * myWay2 * myWay3 * myWay4 \n",
        "print(totalSuchFiles)"
      ],
      "metadata": {
        "colab": {
          "base_uri": "https://localhost:8080/"
        },
        "id": "qnDYppkCfIuf",
        "outputId": "b120d91d-c3f7-4ea3-941a-b4de71e8ef54"
      },
      "execution_count": 94,
      "outputs": [
        {
          "output_type": "stream",
          "name": "stdout",
          "text": [
            "19893497375938370599826047614905329896936840170566570588205180312704857992695193482412686565431050240000000000000000000000\n"
          ]
        }
      ]
    },
    {
      "cell_type": "markdown",
      "source": [
        "# Total such files can be \n",
        "# 19893497375938370599826047614905329896936840170566570588205180312704857992695193482412686565431050240000000000000000000000"
      ],
      "metadata": {
        "id": "kgGMjHsQfWJX"
      }
    },
    {
      "cell_type": "code",
      "source": [
        "sorted_Vales = dcg_Vales.copy()\n",
        "sorted_Vales_50 = dcg_Vales.copy()\n",
        "sv_50 = sorted_Vales_50[0:50]\n",
        "#copies in the sorted_Vales"
      ],
      "metadata": {
        "id": "IUkzSs0YWJAe"
      },
      "execution_count": 95,
      "outputs": []
    },
    {
      "cell_type": "code",
      "source": [
        "print(sorted_Vales)"
      ],
      "metadata": {
        "colab": {
          "base_uri": "https://localhost:8080/"
        },
        "id": "pPt756ewXV2t",
        "outputId": "1d3d2f5b-d30b-481b-df68-96262ef3855a"
      },
      "execution_count": 96,
      "outputs": [
        {
          "output_type": "stream",
          "name": "stdout",
          "text": [
            "[0, 0, 0, 0, 1, 0, 1, 3, 0, 0, 1, 0, 0, 1, 0, 0, 0, 1, 2, 2, 1, 2, 2, 0, 1, 2, 0, 0, 0, 1, 0, 0, 1, 0, 2, 0, 2, 2, 1, 0, 2, 0, 0, 0, 0, 0, 0, 0, 0, 0, 0, 0, 2, 1, 0, 1, 0, 0, 2, 0, 1, 2, 2, 0, 0, 0, 1, 0, 2, 0, 0, 0, 1, 0, 1, 1, 2, 0, 0, 0, 0, 0, 1, 1, 1, 1, 0, 0, 1, 0, 2, 0, 1, 0, 0, 0, 1, 0, 0, 1, 2, 1, 0]\n"
          ]
        }
      ]
    },
    {
      "cell_type": "code",
      "source": [
        "sorted_Vales.sort(reverse=True)\n",
        "sv_50.sort(reverse=True)"
      ],
      "metadata": {
        "id": "0Qn2Oj9vWNkp"
      },
      "execution_count": 97,
      "outputs": []
    },
    {
      "cell_type": "code",
      "source": [
        "print(sorted_Vales)"
      ],
      "metadata": {
        "colab": {
          "base_uri": "https://localhost:8080/"
        },
        "id": "cW2kAZoOXZGq",
        "outputId": "55a1c068-7c09-4005-daf2-f67258a47aec"
      },
      "execution_count": 98,
      "outputs": [
        {
          "output_type": "stream",
          "name": "stdout",
          "text": [
            "[3, 2, 2, 2, 2, 2, 2, 2, 2, 2, 2, 2, 2, 2, 2, 2, 2, 2, 1, 1, 1, 1, 1, 1, 1, 1, 1, 1, 1, 1, 1, 1, 1, 1, 1, 1, 1, 1, 1, 1, 1, 1, 1, 1, 0, 0, 0, 0, 0, 0, 0, 0, 0, 0, 0, 0, 0, 0, 0, 0, 0, 0, 0, 0, 0, 0, 0, 0, 0, 0, 0, 0, 0, 0, 0, 0, 0, 0, 0, 0, 0, 0, 0, 0, 0, 0, 0, 0, 0, 0, 0, 0, 0, 0, 0, 0, 0, 0, 0, 0, 0, 0, 0]\n"
          ]
        }
      ]
    },
    {
      "cell_type": "code",
      "source": [
        "print(sv_50)\n"
      ],
      "metadata": {
        "colab": {
          "base_uri": "https://localhost:8080/"
        },
        "id": "j8779cvHnF71",
        "outputId": "d37568bf-3165-4597-b073-1f0f5ee712b3"
      },
      "execution_count": 99,
      "outputs": [
        {
          "output_type": "stream",
          "name": "stdout",
          "text": [
            "[3, 2, 2, 2, 2, 2, 2, 2, 2, 2, 1, 1, 1, 1, 1, 1, 1, 1, 1, 1, 0, 0, 0, 0, 0, 0, 0, 0, 0, 0, 0, 0, 0, 0, 0, 0, 0, 0, 0, 0, 0, 0, 0, 0, 0, 0, 0, 0, 0, 0]\n"
          ]
        }
      ]
    },
    {
      "cell_type": "code",
      "source": [
        "def determineNdcg(vales):\n",
        "  adder = vales[0] + vales[1]\n",
        "  for idx in range(2,len(vales)-1):\n",
        "    adder += vales[idx]/math.log2(idx+1)\n",
        "  return adder\n"
      ],
      "metadata": {
        "id": "3A92_L1VXaxK"
      },
      "execution_count": 100,
      "outputs": []
    },
    {
      "cell_type": "markdown",
      "source": [
        "# Part 3"
      ],
      "metadata": {
        "id": "Fe07vzFmXc6Q"
      }
    },
    {
      "cell_type": "markdown",
      "source": [
        ""
      ],
      "metadata": {
        "id": "LI6XNlA4zipB"
      }
    },
    {
      "cell_type": "markdown",
      "source": [
        "# a)50"
      ],
      "metadata": {
        "id": "2FK-7sqa0lal"
      }
    },
    {
      "cell_type": "code",
      "source": [
        "dcg_Vales1 = dcg_Vales.copy()\n",
        "sorted_Vales1 = sv_50.copy()"
      ],
      "metadata": {
        "id": "revNXIAX780E"
      },
      "execution_count": 101,
      "outputs": []
    },
    {
      "cell_type": "code",
      "source": [
        "dcgOne= dcg_Vales1[0:50]\n",
        "idcgOne = sorted_Vales1[0:50]"
      ],
      "metadata": {
        "id": "dtLTRDaP8FvD"
      },
      "execution_count": 102,
      "outputs": []
    },
    {
      "cell_type": "code",
      "source": [
        "print(dcgOne)"
      ],
      "metadata": {
        "colab": {
          "base_uri": "https://localhost:8080/"
        },
        "id": "15MKGoCykl_P",
        "outputId": "67baa1ef-278c-402b-e830-de72398baf3c"
      },
      "execution_count": 103,
      "outputs": [
        {
          "output_type": "stream",
          "name": "stdout",
          "text": [
            "[0, 0, 0, 0, 1, 0, 1, 3, 0, 0, 1, 0, 0, 1, 0, 0, 0, 1, 2, 2, 1, 2, 2, 0, 1, 2, 0, 0, 0, 1, 0, 0, 1, 0, 2, 0, 2, 2, 1, 0, 2, 0, 0, 0, 0, 0, 0, 0, 0, 0]\n"
          ]
        }
      ]
    },
    {
      "cell_type": "code",
      "source": [
        "print(idcgOne)"
      ],
      "metadata": {
        "colab": {
          "base_uri": "https://localhost:8080/"
        },
        "id": "Wo66bb1n_f_l",
        "outputId": "bf1d0084-f868-4856-b12f-429afc188257"
      },
      "execution_count": 104,
      "outputs": [
        {
          "output_type": "stream",
          "name": "stdout",
          "text": [
            "[3, 2, 2, 2, 2, 2, 2, 2, 2, 2, 1, 1, 1, 1, 1, 1, 1, 1, 1, 1, 0, 0, 0, 0, 0, 0, 0, 0, 0, 0, 0, 0, 0, 0, 0, 0, 0, 0, 0, 0, 0, 0, 0, 0, 0, 0, 0, 0, 0, 0]\n"
          ]
        }
      ]
    },
    {
      "cell_type": "code",
      "source": [
        "dcgWall_50 = determineNdcg(dcgOne)\n",
        "idcgWall_50 = determineNdcg(idcgOne)\n",
        "print(dcgWall_50/idcgWall_50)"
      ],
      "metadata": {
        "colab": {
          "base_uri": "https://localhost:8080/"
        },
        "id": "lv5H-Lw_8Fw-",
        "outputId": "8ab97e82-ab6c-46c6-9d82-c9ab96149a82"
      },
      "execution_count": 105,
      "outputs": [
        {
          "output_type": "stream",
          "name": "stdout",
          "text": [
            "0.5253808413557646\n"
          ]
        }
      ]
    },
    {
      "cell_type": "code",
      "source": [
        "print(dcgWall_50)\n",
        "print(idcgWall_50)"
      ],
      "metadata": {
        "colab": {
          "base_uri": "https://localhost:8080/"
        },
        "id": "MDQspD3oktH4",
        "outputId": "aa4d3cf6-007a-4d5e-c9f5-922541d5699d"
      },
      "execution_count": 106,
      "outputs": [
        {
          "output_type": "stream",
          "name": "stdout",
          "text": [
            "7.390580969258021\n",
            "14.067092644997018\n"
          ]
        }
      ]
    },
    {
      "cell_type": "markdown",
      "source": [
        "# Ndcg for the first 50 is 0.5253808413557646"
      ],
      "metadata": {
        "id": "cQ5P6u_PACCG"
      }
    },
    {
      "cell_type": "markdown",
      "source": [
        "# b)for the whole Dataset"
      ],
      "metadata": {
        "id": "unRKHzYX04nE"
      }
    },
    {
      "cell_type": "code",
      "source": [
        "dcg_Vales2 = dcg_Vales.copy()\n",
        "sorted_Vales2 = sorted_Vales.copy()\n"
      ],
      "metadata": {
        "id": "5SEP-dE208bI"
      },
      "execution_count": 107,
      "outputs": []
    },
    {
      "cell_type": "code",
      "source": [
        "dcgWall = determineNdcg(dcg_Vales2)\n",
        "idcgWall = determineNdcg(sorted_Vales2)\n",
        "print(dcgWall/idcgWall)"
      ],
      "metadata": {
        "colab": {
          "base_uri": "https://localhost:8080/"
        },
        "id": "-_dbCQdC2tfs",
        "outputId": "5f2f3a25-ecce-449e-a5b0-c023ebafe1eb"
      },
      "execution_count": 108,
      "outputs": [
        {
          "output_type": "stream",
          "name": "stdout",
          "text": [
            "0.5979226516897831\n"
          ]
        }
      ]
    },
    {
      "cell_type": "markdown",
      "source": [
        "# Ndcg for the whole dataset is 0.5979"
      ],
      "metadata": {
        "id": "IMFTktRh7yWU"
      }
    },
    {
      "cell_type": "markdown",
      "source": [
        "# Part 4"
      ],
      "metadata": {
        "id": "o4SI-PtMk5Bc"
      }
    },
    {
      "cell_type": "code",
      "source": [
        "import matplotlib.pyplot as plt"
      ],
      "metadata": {
        "id": "F7O13LHwndkf"
      },
      "execution_count": 109,
      "outputs": []
    },
    {
      "cell_type": "code",
      "source": [
        "graph4 = quidFour.copy()"
      ],
      "metadata": {
        "id": "Nf_Em24MwYMB"
      },
      "execution_count": 110,
      "outputs": []
    },
    {
      "cell_type": "code",
      "source": [
        ""
      ],
      "metadata": {
        "id": "6VabwPRo0Qc7"
      },
      "execution_count": 110,
      "outputs": []
    },
    {
      "cell_type": "code",
      "source": [
        "relvanceDict = {}\n",
        "relevantDocs = 0\n",
        "\n"
      ],
      "metadata": {
        "id": "Tl33TQxP0u-U"
      },
      "execution_count": 111,
      "outputs": []
    },
    {
      "cell_type": "code",
      "source": [
        "graph4[:][76]"
      ],
      "metadata": {
        "colab": {
          "base_uri": "https://localhost:8080/"
        },
        "id": "1pkr9NUY1e-y",
        "outputId": "fa23fccd-6b75-48fc-cbee-c14ebbdaf9ea"
      },
      "execution_count": 112,
      "outputs": [
        {
          "output_type": "execute_result",
          "data": {
            "text/plain": [
              "0        75:90.53171\n",
              "1      75:538.388954\n",
              "2       75:88.171761\n",
              "3      75:144.564444\n",
              "4      75:142.589323\n",
              "           ...      \n",
              "98      75:70.460443\n",
              "99      75:270.13233\n",
              "100    75:296.023694\n",
              "101    75:528.520116\n",
              "102     75:84.625987\n",
              "Name: 76, Length: 103, dtype: object"
            ]
          },
          "metadata": {},
          "execution_count": 112
        }
      ]
    },
    {
      "cell_type": "code",
      "source": [
        "relevanceScore = []\n",
        "for idx in range(len(graph4)):\n",
        "  currVal = graph4.iloc[idx][76]\n",
        "  currVal = currVal[3:]\n",
        "  relevanceScore.append(float(currVal))\n"
      ],
      "metadata": {
        "id": "Qf69VkTM1fHo"
      },
      "execution_count": 113,
      "outputs": []
    },
    {
      "cell_type": "code",
      "source": [
        "print(relevanceScore)"
      ],
      "metadata": {
        "colab": {
          "base_uri": "https://localhost:8080/"
        },
        "id": "DrCMoaVJ1xyy",
        "outputId": "a94dc1ad-5ca3-4f53-b7dd-bcc0beb59815"
      },
      "execution_count": 114,
      "outputs": [
        {
          "output_type": "stream",
          "name": "stdout",
          "text": [
            "[90.53171, 538.388954, 88.171761, 144.564444, 142.589323, 463.099129, 103.400313, 411.010633, 972.826451, 142.589323, 84.625987, 91.160998, 180.720002, 237.21632, 22.480108, 84.625987, 14.972391, 42.227139, 81.947653, 157.05992, 84.625987, 143.445062, 166.683125, 70.466293, 121.96152, 69.811973, 74.434086, 186.375414, 79.630746, 176.875026, 19.313312, 187.934366, 94.958714, 121.007996, 89.877389, 85.634253, 217.848266, 156.301965, 200.840161, 201.720933, 192.953467, 212.401296, 169.844071, 148.415271, 148.415271, 91.717534, 143.769297, 71.646268, 185.617459, 3.539923, 176.000104, 76.360315, 237.21632, 202.442155, 305.102064, 188.936782, 571.500533, 68.100494, 142.038637, 188.129935, 439.396463, 161.455583, 161.15638, 98.418404, 43.297629, 226.444023, 77.167163, 612.893205, 121.814843, 95.257458, 18.133337, 95.257458, 198.480212, 316.319283, 81.140806, 85.805962, 108.548081, 75.987188, 84.625987, 177.168378, 200.840161, 3.539923, 140.479685, 84.625987, 292.184568, 180.24324, 14.972391, 84.625987, 98.148911, 130.655061, 311.705149, 73.279603, 81.140806, 142.9683, 15.773388, 161.455583, 18.133337, 22.419515, 70.460443, 270.13233, 296.023694, 528.520116, 84.625987]\n"
          ]
        }
      ]
    },
    {
      "cell_type": "code",
      "source": [
        "print(dcg_Vales)"
      ],
      "metadata": {
        "colab": {
          "base_uri": "https://localhost:8080/"
        },
        "id": "EPHo5QOX2pNv",
        "outputId": "2fa8874e-902d-4365-8799-724b12956dc5"
      },
      "execution_count": 115,
      "outputs": [
        {
          "output_type": "stream",
          "name": "stdout",
          "text": [
            "[0, 0, 0, 0, 1, 0, 1, 3, 0, 0, 1, 0, 0, 1, 0, 0, 0, 1, 2, 2, 1, 2, 2, 0, 1, 2, 0, 0, 0, 1, 0, 0, 1, 0, 2, 0, 2, 2, 1, 0, 2, 0, 0, 0, 0, 0, 0, 0, 0, 0, 0, 0, 2, 1, 0, 1, 0, 0, 2, 0, 1, 2, 2, 0, 0, 0, 1, 0, 2, 0, 0, 0, 1, 0, 1, 1, 2, 0, 0, 0, 0, 0, 1, 1, 1, 1, 0, 0, 1, 0, 2, 0, 1, 0, 0, 0, 1, 0, 0, 1, 2, 1, 0]\n"
          ]
        }
      ]
    },
    {
      "cell_type": "code",
      "source": [
        "def changeVals(mydf):\n",
        "  arr = []\n",
        "  for idx in range(len(mydf)):\n",
        "    if (mydf[idx]!=0):\n",
        "      arr.append(1)\n",
        "    else:\n",
        "      arr.append(0)\n",
        "  return arr\n",
        "    "
      ],
      "metadata": {
        "id": "n0z04WA92z4I"
      },
      "execution_count": 116,
      "outputs": []
    },
    {
      "cell_type": "code",
      "source": [
        "countOne = 0\n",
        "changed_dcg_Vales=dcg_Vales.copy()\n",
        "getChanged = changeVals(changed_dcg_Vales)"
      ],
      "metadata": {
        "id": "NC8VgSeq6KOK"
      },
      "execution_count": 117,
      "outputs": []
    },
    {
      "cell_type": "code",
      "source": [
        "print(getChanged)"
      ],
      "metadata": {
        "colab": {
          "base_uri": "https://localhost:8080/"
        },
        "id": "x1t_GLx_6v-v",
        "outputId": "158dc009-b0ec-48a4-b7be-c0a469690a9b"
      },
      "execution_count": 118,
      "outputs": [
        {
          "output_type": "stream",
          "name": "stdout",
          "text": [
            "[0, 0, 0, 0, 1, 0, 1, 1, 0, 0, 1, 0, 0, 1, 0, 0, 0, 1, 1, 1, 1, 1, 1, 0, 1, 1, 0, 0, 0, 1, 0, 0, 1, 0, 1, 0, 1, 1, 1, 0, 1, 0, 0, 0, 0, 0, 0, 0, 0, 0, 0, 0, 1, 1, 0, 1, 0, 0, 1, 0, 1, 1, 1, 0, 0, 0, 1, 0, 1, 0, 0, 0, 1, 0, 1, 1, 1, 0, 0, 0, 0, 0, 1, 1, 1, 1, 0, 0, 1, 0, 1, 0, 1, 0, 0, 0, 1, 0, 0, 1, 1, 1, 0]\n"
          ]
        }
      ]
    },
    {
      "cell_type": "code",
      "source": [
        "#we have to deal with the getChanged and the relevance score\n",
        "import collections\n",
        "collections.Counter(getChanged)"
      ],
      "metadata": {
        "colab": {
          "base_uri": "https://localhost:8080/"
        },
        "id": "deBt65--8LEO",
        "outputId": "00231f62-62f6-4f2b-98b7-756eec281f2e"
      },
      "execution_count": 119,
      "outputs": [
        {
          "output_type": "execute_result",
          "data": {
            "text/plain": [
              "Counter({0: 59, 1: 44})"
            ]
          },
          "metadata": {},
          "execution_count": 119
        }
      ]
    },
    {
      "cell_type": "code",
      "source": [
        "countOne = 44 #No of relevance documents 1,2,3\n",
        "\n",
        "print(countOne)"
      ],
      "metadata": {
        "colab": {
          "base_uri": "https://localhost:8080/"
        },
        "id": "UA0WtkXz8hR6",
        "outputId": "d128e2c3-0b95-4543-9750-d814542c84b4"
      },
      "execution_count": 120,
      "outputs": [
        {
          "output_type": "stream",
          "name": "stdout",
          "text": [
            "44\n"
          ]
        }
      ]
    },
    {
      "cell_type": "code",
      "source": [
        "from itertools import compress\n",
        "pairValue = [((getChanged[idx]),(relevanceScore[idx])) \n",
        "         for idx in range(len(getChanged))]"
      ],
      "metadata": {
        "id": "PP93eaUo85fy"
      },
      "execution_count": 121,
      "outputs": []
    },
    {
      "cell_type": "code",
      "source": [
        "print(pairValue)"
      ],
      "metadata": {
        "colab": {
          "base_uri": "https://localhost:8080/"
        },
        "id": "Ek8MpmS_Or2X",
        "outputId": "057a2887-f16f-4aa6-dc76-077e92ed49cb"
      },
      "execution_count": 122,
      "outputs": [
        {
          "output_type": "stream",
          "name": "stdout",
          "text": [
            "[(0, 90.53171), (0, 538.388954), (0, 88.171761), (0, 144.564444), (1, 142.589323), (0, 463.099129), (1, 103.400313), (1, 411.010633), (0, 972.826451), (0, 142.589323), (1, 84.625987), (0, 91.160998), (0, 180.720002), (1, 237.21632), (0, 22.480108), (0, 84.625987), (0, 14.972391), (1, 42.227139), (1, 81.947653), (1, 157.05992), (1, 84.625987), (1, 143.445062), (1, 166.683125), (0, 70.466293), (1, 121.96152), (1, 69.811973), (0, 74.434086), (0, 186.375414), (0, 79.630746), (1, 176.875026), (0, 19.313312), (0, 187.934366), (1, 94.958714), (0, 121.007996), (1, 89.877389), (0, 85.634253), (1, 217.848266), (1, 156.301965), (1, 200.840161), (0, 201.720933), (1, 192.953467), (0, 212.401296), (0, 169.844071), (0, 148.415271), (0, 148.415271), (0, 91.717534), (0, 143.769297), (0, 71.646268), (0, 185.617459), (0, 3.539923), (0, 176.000104), (0, 76.360315), (1, 237.21632), (1, 202.442155), (0, 305.102064), (1, 188.936782), (0, 571.500533), (0, 68.100494), (1, 142.038637), (0, 188.129935), (1, 439.396463), (1, 161.455583), (1, 161.15638), (0, 98.418404), (0, 43.297629), (0, 226.444023), (1, 77.167163), (0, 612.893205), (1, 121.814843), (0, 95.257458), (0, 18.133337), (0, 95.257458), (1, 198.480212), (0, 316.319283), (1, 81.140806), (1, 85.805962), (1, 108.548081), (0, 75.987188), (0, 84.625987), (0, 177.168378), (0, 200.840161), (0, 3.539923), (1, 140.479685), (1, 84.625987), (1, 292.184568), (1, 180.24324), (0, 14.972391), (0, 84.625987), (1, 98.148911), (0, 130.655061), (1, 311.705149), (0, 73.279603), (1, 81.140806), (0, 142.9683), (0, 15.773388), (0, 161.455583), (1, 18.133337), (0, 22.419515), (0, 70.460443), (1, 270.13233), (1, 296.023694), (1, 528.520116), (0, 84.625987)]\n"
          ]
        }
      ]
    },
    {
      "cell_type": "markdown",
      "source": [
        ""
      ],
      "metadata": {
        "id": "pSjjv10HP1yc"
      }
    },
    {
      "cell_type": "code",
      "source": [
        "#we will sort this pair value pair w.r.t to the relevance score\n",
        "pairValue = sorted(pairValue, key=lambda x: x[1], reverse=True)"
      ],
      "metadata": {
        "id": "-JnTdmSpPHO1"
      },
      "execution_count": 123,
      "outputs": []
    },
    {
      "cell_type": "code",
      "source": [
        "print(pairValue)"
      ],
      "metadata": {
        "colab": {
          "base_uri": "https://localhost:8080/"
        },
        "id": "I9Fp5mJRP8Zu",
        "outputId": "31877a09-852a-49e2-9fe5-4340e6b437b5"
      },
      "execution_count": 124,
      "outputs": [
        {
          "output_type": "stream",
          "name": "stdout",
          "text": [
            "[(0, 972.826451), (0, 612.893205), (0, 571.500533), (0, 538.388954), (1, 528.520116), (0, 463.099129), (1, 439.396463), (1, 411.010633), (0, 316.319283), (1, 311.705149), (0, 305.102064), (1, 296.023694), (1, 292.184568), (1, 270.13233), (1, 237.21632), (1, 237.21632), (0, 226.444023), (1, 217.848266), (0, 212.401296), (1, 202.442155), (0, 201.720933), (1, 200.840161), (0, 200.840161), (1, 198.480212), (1, 192.953467), (1, 188.936782), (0, 188.129935), (0, 187.934366), (0, 186.375414), (0, 185.617459), (0, 180.720002), (1, 180.24324), (0, 177.168378), (1, 176.875026), (0, 176.000104), (0, 169.844071), (1, 166.683125), (1, 161.455583), (0, 161.455583), (1, 161.15638), (1, 157.05992), (1, 156.301965), (0, 148.415271), (0, 148.415271), (0, 144.564444), (0, 143.769297), (1, 143.445062), (0, 142.9683), (1, 142.589323), (0, 142.589323), (1, 142.038637), (1, 140.479685), (0, 130.655061), (1, 121.96152), (1, 121.814843), (0, 121.007996), (1, 108.548081), (1, 103.400313), (0, 98.418404), (1, 98.148911), (0, 95.257458), (0, 95.257458), (1, 94.958714), (0, 91.717534), (0, 91.160998), (0, 90.53171), (1, 89.877389), (0, 88.171761), (1, 85.805962), (0, 85.634253), (1, 84.625987), (0, 84.625987), (1, 84.625987), (0, 84.625987), (1, 84.625987), (0, 84.625987), (0, 84.625987), (1, 81.947653), (1, 81.140806), (1, 81.140806), (0, 79.630746), (1, 77.167163), (0, 76.360315), (0, 75.987188), (0, 74.434086), (0, 73.279603), (0, 71.646268), (0, 70.466293), (0, 70.460443), (1, 69.811973), (0, 68.100494), (0, 43.297629), (1, 42.227139), (0, 22.480108), (0, 22.419515), (0, 19.313312), (0, 18.133337), (1, 18.133337), (0, 15.773388), (0, 14.972391), (0, 14.972391), (0, 3.539923), (0, 3.539923)]\n"
          ]
        }
      ]
    },
    {
      "cell_type": "code",
      "source": [
        "atLastPrecision = []\n",
        "atLastRecall = []\n",
        "currOne = 0\n",
        "\n",
        "def appendPre_Rec():\n",
        "  currOne = 0\n",
        "  currEle = 1\n",
        "  for ele in [arr[0] for arr in pairValue]:\n",
        "    atLastPrecision.append(currOne/currEle)\n",
        "    #Precision is relevant intersection reterival by reterived that means currEle\n",
        "    atLastRecall.append(currOne/countOne)\n",
        "    if ele == 1:\n",
        "      currOne = currOne + 1\n",
        "    currEle = currEle + 1\n",
        "    \n",
        "\n",
        "\n"
      ],
      "metadata": {
        "id": "5oEvDiybP-F6"
      },
      "execution_count": 125,
      "outputs": []
    },
    {
      "cell_type": "code",
      "source": [
        "appendPre_Rec()"
      ],
      "metadata": {
        "id": "JpVpLe-VTnXh"
      },
      "execution_count": 126,
      "outputs": []
    },
    {
      "cell_type": "code",
      "source": [
        "print(\"Recall : \",atLastRecall)"
      ],
      "metadata": {
        "colab": {
          "base_uri": "https://localhost:8080/"
        },
        "id": "g6tfnDyfTs4N",
        "outputId": "3fa300b1-1f8d-4b9f-c6ab-4eba0611a17d"
      },
      "execution_count": 127,
      "outputs": [
        {
          "output_type": "stream",
          "name": "stdout",
          "text": [
            "Recall :  [0.0, 0.0, 0.0, 0.0, 0.0, 0.022727272727272728, 0.022727272727272728, 0.045454545454545456, 0.06818181818181818, 0.06818181818181818, 0.09090909090909091, 0.09090909090909091, 0.11363636363636363, 0.13636363636363635, 0.1590909090909091, 0.18181818181818182, 0.20454545454545456, 0.20454545454545456, 0.22727272727272727, 0.22727272727272727, 0.25, 0.25, 0.2727272727272727, 0.2727272727272727, 0.29545454545454547, 0.3181818181818182, 0.3409090909090909, 0.3409090909090909, 0.3409090909090909, 0.3409090909090909, 0.3409090909090909, 0.3409090909090909, 0.36363636363636365, 0.36363636363636365, 0.38636363636363635, 0.38636363636363635, 0.38636363636363635, 0.4090909090909091, 0.4318181818181818, 0.4318181818181818, 0.45454545454545453, 0.4772727272727273, 0.5, 0.5, 0.5, 0.5, 0.5, 0.5227272727272727, 0.5227272727272727, 0.5454545454545454, 0.5454545454545454, 0.5681818181818182, 0.5909090909090909, 0.5909090909090909, 0.6136363636363636, 0.6363636363636364, 0.6363636363636364, 0.6590909090909091, 0.6818181818181818, 0.6818181818181818, 0.7045454545454546, 0.7045454545454546, 0.7045454545454546, 0.7272727272727273, 0.7272727272727273, 0.7272727272727273, 0.7272727272727273, 0.75, 0.75, 0.7727272727272727, 0.7727272727272727, 0.7954545454545454, 0.7954545454545454, 0.8181818181818182, 0.8181818181818182, 0.8409090909090909, 0.8409090909090909, 0.8409090909090909, 0.8636363636363636, 0.8863636363636364, 0.9090909090909091, 0.9090909090909091, 0.9318181818181818, 0.9318181818181818, 0.9318181818181818, 0.9318181818181818, 0.9318181818181818, 0.9318181818181818, 0.9318181818181818, 0.9318181818181818, 0.9545454545454546, 0.9545454545454546, 0.9545454545454546, 0.9772727272727273, 0.9772727272727273, 0.9772727272727273, 0.9772727272727273, 0.9772727272727273, 1.0, 1.0, 1.0, 1.0, 1.0]\n"
          ]
        }
      ]
    },
    {
      "cell_type": "code",
      "source": [
        "print(\"Precision : \",atLastPrecision)"
      ],
      "metadata": {
        "colab": {
          "base_uri": "https://localhost:8080/"
        },
        "id": "Es_6MAJrTwNM",
        "outputId": "dac41d77-5ed7-45a7-95e9-13faf075c0c5"
      },
      "execution_count": 128,
      "outputs": [
        {
          "output_type": "stream",
          "name": "stdout",
          "text": [
            "Precision :  [0.0, 0.0, 0.0, 0.0, 0.0, 0.16666666666666666, 0.14285714285714285, 0.25, 0.3333333333333333, 0.3, 0.36363636363636365, 0.3333333333333333, 0.38461538461538464, 0.42857142857142855, 0.4666666666666667, 0.5, 0.5294117647058824, 0.5, 0.5263157894736842, 0.5, 0.5238095238095238, 0.5, 0.5217391304347826, 0.5, 0.52, 0.5384615384615384, 0.5555555555555556, 0.5357142857142857, 0.5172413793103449, 0.5, 0.4838709677419355, 0.46875, 0.48484848484848486, 0.47058823529411764, 0.4857142857142857, 0.4722222222222222, 0.4594594594594595, 0.47368421052631576, 0.48717948717948717, 0.475, 0.4878048780487805, 0.5, 0.5116279069767442, 0.5, 0.4888888888888889, 0.4782608695652174, 0.46808510638297873, 0.4791666666666667, 0.46938775510204084, 0.48, 0.47058823529411764, 0.4807692307692308, 0.49056603773584906, 0.48148148148148145, 0.4909090909090909, 0.5, 0.49122807017543857, 0.5, 0.5084745762711864, 0.5, 0.5081967213114754, 0.5, 0.49206349206349204, 0.5, 0.49230769230769234, 0.48484848484848486, 0.47761194029850745, 0.4852941176470588, 0.4782608695652174, 0.4857142857142857, 0.4788732394366197, 0.4861111111111111, 0.4794520547945205, 0.4864864864864865, 0.48, 0.4868421052631579, 0.4805194805194805, 0.47435897435897434, 0.4810126582278481, 0.4875, 0.49382716049382713, 0.4878048780487805, 0.4939759036144578, 0.4880952380952381, 0.4823529411764706, 0.47674418604651164, 0.47126436781609193, 0.4659090909090909, 0.4606741573033708, 0.45555555555555555, 0.46153846153846156, 0.45652173913043476, 0.45161290322580644, 0.4574468085106383, 0.45263157894736844, 0.4479166666666667, 0.44329896907216493, 0.4387755102040816, 0.4444444444444444, 0.44, 0.43564356435643564, 0.43137254901960786, 0.42718446601941745]\n"
          ]
        }
      ]
    },
    {
      "cell_type": "code",
      "source": [
        "plt.xlabel('Precision')\n",
        "plt.ylabel('Recall')\n",
        "plt.title('Precision-Recall Curve')\n",
        "plt.plot(atLastRecall,atLastPrecision)\n",
        "plt.show()"
      ],
      "metadata": {
        "colab": {
          "base_uri": "https://localhost:8080/",
          "height": 295
        },
        "id": "W2n_JYHST5lU",
        "outputId": "6112f6a5-5621-4ad3-a915-ae6c4593bed7"
      },
      "execution_count": 129,
      "outputs": [
        {
          "output_type": "display_data",
          "data": {
            "text/plain": [
              "<Figure size 432x288 with 1 Axes>"
            ],
            "image/png": "[encoded data removed]"
          },
          "metadata": {
            "needs_background": "light"
          }
        }
      ]
    },
    {
      "cell_type": "code",
      "source": [
        ""
      ],
      "metadata": {
        "id": "12je7iAjUHhc"
      },
      "execution_count": 129,
      "outputs": []
    }
  ]
}